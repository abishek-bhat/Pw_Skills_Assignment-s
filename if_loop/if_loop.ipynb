{
 "cells": [
  {
   "cell_type": "markdown",
   "id": "46229140",
   "metadata": {},
   "source": [
    "<h1>For Loop"
   ]
  },
  {
   "cell_type": "markdown",
   "id": "4a10bf3b",
   "metadata": {},
   "source": [
    "<h3>Write a Python program to print numbers from 1 to 10 using a for loop."
   ]
  },
  {
   "cell_type": "code",
   "execution_count": 4,
   "id": "6398b665",
   "metadata": {},
   "outputs": [
    {
     "name": "stdout",
     "output_type": "stream",
     "text": [
      "1 2 3 4 5 6 7 8 9 10 "
     ]
    }
   ],
   "source": [
    "for i in range(1,11):\n",
    "    print(i,end=\" \")"
   ]
  },
  {
   "cell_type": "markdown",
   "id": "dd9ce28f",
   "metadata": {},
   "source": [
    "<h3>Explain the difference between a for loop and a while loop in Python.\n"
   ]
  },
  {
   "cell_type": "markdown",
   "id": "da0b64b2",
   "metadata": {},
   "source": [
    "<h6> For Loop: For loops are generally used when you know the number of iterations in advance or when you need to iterate over a sequence of items.\n",
    "While Loop: While loops are useful when you don't know the number of iterations in advance or when you want to repeat a block of code until a certain condition is met."
   ]
  },
  {
   "cell_type": "markdown",
   "id": "30a73d1e",
   "metadata": {},
   "source": [
    "<h3>Write a Python program to calculate the sum of all numbers from 1 to 100 using a for loop."
   ]
  },
  {
   "cell_type": "code",
   "execution_count": 6,
   "id": "f7ddab30",
   "metadata": {},
   "outputs": [
    {
     "name": "stdout",
     "output_type": "stream",
     "text": [
      "5050\n"
     ]
    }
   ],
   "source": [
    "sum_number=0\n",
    "for i in range(1,101):\n",
    "    sum_number+=i\n",
    "print(sum_number)"
   ]
  },
  {
   "cell_type": "markdown",
   "id": "22a40c96",
   "metadata": {},
   "source": [
    "<h3>How do you iterate through a list using a for loop in Python?"
   ]
  },
  {
   "cell_type": "code",
   "execution_count": 8,
   "id": "64045d92",
   "metadata": {},
   "outputs": [
    {
     "name": "stdout",
     "output_type": "stream",
     "text": [
      "2\n",
      "3\n",
      "5\n",
      "6\n"
     ]
    }
   ],
   "source": [
    "list_item=[2,3,5,6]\n",
    "for i in list_item:\n",
    "    print(i)"
   ]
  },
  {
   "cell_type": "markdown",
   "id": "4188c31a",
   "metadata": {},
   "source": [
    "<h3>Write a Python program to find the product of all elements in a list using a for loop."
   ]
  },
  {
   "cell_type": "code",
   "execution_count": 9,
   "id": "518a65c3",
   "metadata": {},
   "outputs": [
    {
     "name": "stdout",
     "output_type": "stream",
     "text": [
      "16\n"
     ]
    }
   ],
   "source": [
    "sum_number=0\n",
    "list_item=[2,3,5,6]\n",
    "for i in list_item:\n",
    "    sum_number+=i\n",
    "print(sum_number)"
   ]
  },
  {
   "cell_type": "markdown",
   "id": "83f6ca37",
   "metadata": {},
   "source": [
    "<h3>Create a Python program that prints all even numbers from 1 to 20 using a for loop."
   ]
  },
  {
   "cell_type": "markdown",
   "id": "7156ae74",
   "metadata": {},
   "source": [
    "sum_numbers=0\n",
    "for i in range (1,21):\n",
    "    if i%2==0:\n",
    "        sum_numbers+=i\n",
    "print(sum_numbers)"
   ]
  },
  {
   "cell_type": "markdown",
   "id": "6cdcf307",
   "metadata": {},
   "source": [
    "<h3>Write a Python program that calculates the factorial of a number using a for loop."
   ]
  },
  {
   "cell_type": "code",
   "execution_count": 12,
   "id": "12ecfaad",
   "metadata": {},
   "outputs": [
    {
     "name": "stdout",
     "output_type": "stream",
     "text": [
      "Factorial of 5 is: 120\n"
     ]
    }
   ],
   "source": [
    "def factorial(n):\n",
    "    if n == 0:\n",
    "        return 1\n",
    "    else:\n",
    "        result = 1\n",
    "        for i in range(1, n + 1):\n",
    "            result *= i\n",
    "        return result\n",
    "result = factorial(5)\n",
    "print(\"Factorial of 5 is:\", result)"
   ]
  },
  {
   "cell_type": "markdown",
   "id": "f664608b",
   "metadata": {},
   "source": [
    "<h3>How can you iterate through the characters of a string using a for loop in Python?\n"
   ]
  },
  {
   "cell_type": "code",
   "execution_count": 14,
   "id": "266b6508",
   "metadata": {},
   "outputs": [
    {
     "name": "stdout",
     "output_type": "stream",
     "text": [
      "Enter the name: abishek\n",
      "a b i s h e k "
     ]
    }
   ],
   "source": [
    "name=input(\"Enter the name: \")\n",
    "for i in name:\n",
    "    print(i,end=\" \")"
   ]
  },
  {
   "cell_type": "markdown",
   "id": "dd5a06aa",
   "metadata": {},
   "source": [
    "<h3>Write a Python program to find the largest number in a list using a for loop."
   ]
  },
  {
   "cell_type": "code",
   "execution_count": 15,
   "id": "27bd5ff0",
   "metadata": {},
   "outputs": [
    {
     "name": "stdout",
     "output_type": "stream",
     "text": [
      "The largest number in the list is: 47\n"
     ]
    }
   ],
   "source": [
    "my_list = [10, 25, 8, 31, 47, 18]\n",
    "largest = my_list[0]\n",
    "for num in my_list[1:]:\n",
    "    if num > largest:\n",
    "        largest = num\n",
    "print(\"The largest number in the list is:\", largest)"
   ]
  },
  {
   "cell_type": "markdown",
   "id": "207efb76",
   "metadata": {},
   "source": [
    "<h3>Create a Python program that prints the Fibonacci sequence up to a specified limit using a for loop."
   ]
  },
  {
   "cell_type": "code",
   "execution_count": 21,
   "id": "c2413a0e",
   "metadata": {},
   "outputs": [
    {
     "name": "stdout",
     "output_type": "stream",
     "text": [
      "Enter the limit for the Fibonacci sequence: 8\n",
      "Fibonacci sequence up to 8 : [0, 1, 1, 2, 3, 5, 8]\n"
     ]
    }
   ],
   "source": [
    "limit = int(input(\"Enter the limit for the Fibonacci sequence: \"))\n",
    "fib_sequence = [0, 1]\n",
    "for i in range(2, limit):\n",
    "    next_num = fib_sequence[-1] + fib_sequence[-2]\n",
    "    if next_num <= limit:\n",
    "        fib_sequence.append(next_num)\n",
    "    else:\n",
    "        break\n",
    "print(\"Fibonacci sequence up to\", limit, \":\", fib_sequence)"
   ]
  },
  {
   "cell_type": "markdown",
   "id": "ddc84d6e",
   "metadata": {},
   "source": [
    "<h3>Write a Python program to count the number of vowels in a given string using a for loop."
   ]
  },
  {
   "cell_type": "code",
   "execution_count": 25,
   "id": "60ce228a",
   "metadata": {},
   "outputs": [
    {
     "name": "stdout",
     "output_type": "stream",
     "text": [
      "Enter the word: abishek\n",
      "3\n"
     ]
    }
   ],
   "source": [
    "string=(input(\"Enter the word: \"))\n",
    "vowels = 'aeiouAEIOU'\n",
    "count=0\n",
    "for char in string:\n",
    "    if char in vowels:\n",
    "        count+=1\n",
    "print(count)"
   ]
  },
  {
   "cell_type": "markdown",
   "id": "b7862e96",
   "metadata": {},
   "source": [
    "<h3>Create a Python program that generates a multiplication table for a given number using a for loop.\n"
   ]
  },
  {
   "cell_type": "code",
   "execution_count": 37,
   "id": "3e0addb5",
   "metadata": {},
   "outputs": [
    {
     "name": "stdout",
     "output_type": "stream",
     "text": [
      "Enter the Number: 5\n",
      "0 * 5 = 0\n",
      "1 * 5 = 5\n",
      "2 * 5 = 10\n",
      "3 * 5 = 15\n",
      "4 * 5 = 20\n",
      "5 * 5 = 25\n",
      "6 * 5 = 30\n",
      "7 * 5 = 35\n",
      "8 * 5 = 40\n",
      "9 * 5 = 45\n",
      "10 * 5 = 50\n"
     ]
    }
   ],
   "source": [
    "number=int(input(\"Enter the Number: \"))\n",
    "for i in range(0,11):\n",
    "     print(f\"{i} * {number} = {i*number}\")"
   ]
  },
  {
   "cell_type": "markdown",
   "id": "ce7ff047",
   "metadata": {},
   "source": [
    "<h3>Write a Python program to reverse a list using a for loop."
   ]
  },
  {
   "cell_type": "code",
   "execution_count": 43,
   "id": "e0c7e5d9",
   "metadata": {},
   "outputs": [
    {
     "name": "stdout",
     "output_type": "stream",
     "text": [
      "Enter a list of integers separated by spaces: 5 6 3 4\n",
      "[4, 3, 6, 5]\n"
     ]
    }
   ],
   "source": [
    "input_list = list(map(int, input(\"Enter a list of integers separated by spaces: \").split()))\n",
    "length = len(input_list)\n",
    "new_list = []\n",
    "for i in range(length - 1, -1, -1): \n",
    "    new_list.append(input_list[i])\n",
    "print(new_list)\n"
   ]
  },
  {
   "cell_type": "markdown",
   "id": "ce8d365e",
   "metadata": {},
   "source": [
    "<h3>Write a Python program to find the common elements between two lists using a for loop."
   ]
  },
  {
   "cell_type": "code",
   "execution_count": 46,
   "id": "f469519b",
   "metadata": {},
   "outputs": [
    {
     "name": "stdout",
     "output_type": "stream",
     "text": [
      "Enter a list of integers separated by spaces: 5 6 3 1 4\n",
      "Enter a list of integers separated by spaces: 8 6 4 3 7\n",
      "[6, 3, 4]\n"
     ]
    }
   ],
   "source": [
    "input_list_1 = list(map(int, input(\"Enter a list of integers separated by spaces: \").split()))\n",
    "input_list_2 = list(map(int, input(\"Enter a list of integers separated by spaces: \").split()))\n",
    "common_elements=[]\n",
    "for i in input_list_1:\n",
    "    for j in input_list_2:\n",
    "        if i == j:\n",
    "            if i not in common_elements:  # Check if the element is already in the common_elements list\n",
    "                common_elements.append(i)\n",
    "print(common_elements)"
   ]
  },
  {
   "cell_type": "markdown",
   "id": "3ad06d9c",
   "metadata": {},
   "source": [
    "<h3>Explain how to use a for loop to iterate through the keys and values of a dictionary in Python.\n"
   ]
  },
  {
   "cell_type": "code",
   "execution_count": 47,
   "id": "87209cc3",
   "metadata": {},
   "outputs": [
    {
     "name": "stdout",
     "output_type": "stream",
     "text": [
      "Key: a\n",
      "Value: 1\n",
      "Key: b\n",
      "Value: 2\n",
      "Key: c\n",
      "Value: 3\n"
     ]
    }
   ],
   "source": [
    "my_dict = {'a': 1, 'b': 2, 'c': 3}\n",
    "for key, value in my_dict.items():\n",
    "    print(\"Key:\", key)\n",
    "    print(\"Value:\", value)\n"
   ]
  },
  {
   "cell_type": "markdown",
   "id": "e0049fce",
   "metadata": {},
   "source": [
    "<h3>Write a Python program to find the GCD (Greatest Common Divisor) of two numbers using a for loop"
   ]
  },
  {
   "cell_type": "code",
   "execution_count": 48,
   "id": "d7039b9a",
   "metadata": {},
   "outputs": [
    {
     "name": "stdout",
     "output_type": "stream",
     "text": [
      "Enter the first number: 60\n",
      "Enter the second number: 20\n",
      "The GCD of 60 and 20 is: 20\n"
     ]
    }
   ],
   "source": [
    "num1 = int(input(\"Enter the first number: \"))\n",
    "num2 = int(input(\"Enter the second number: \"))\n",
    "min_num = min(num1, num2)\n",
    "gcd_result = 1\n",
    "for i in range(1, min_num + 1):\n",
    "    if num1 % i == 0 and num2 % i == 0:\n",
    "        # If so, update the gcd\n",
    "        gcd_result = i\n",
    "print(\"The GCD of\", num1, \"and\", num2, \"is:\", gcd_result)\n"
   ]
  },
  {
   "cell_type": "markdown",
   "id": "e5fbba89",
   "metadata": {},
   "source": [
    "<h3>Create a Python program that checks if a string is a palindrome using a for loop."
   ]
  },
  {
   "cell_type": "code",
   "execution_count": 55,
   "id": "810e7d66",
   "metadata": {},
   "outputs": [
    {
     "name": "stdout",
     "output_type": "stream",
     "text": [
      "Enter the String: abishek\n",
      "It is not in palindrome\n"
     ]
    }
   ],
   "source": [
    "input_letter=input(\"Enter the String: \")\n",
    "for j in range(len(input_letter) - 1, -1, -1):\n",
    "    reversed_word=j\n",
    "if input==reversed_word:\n",
    "    print(\"It is in palindrome\")\n",
    "else:\n",
    "    print(\"It is not in palindrome\")"
   ]
  },
  {
   "cell_type": "markdown",
   "id": "7d56a0fc",
   "metadata": {},
   "source": [
    "<h3>Write a Python program to remove duplicates from a list using a for loop."
   ]
  },
  {
   "cell_type": "code",
   "execution_count": 71,
   "id": "1d831b24",
   "metadata": {},
   "outputs": [
    {
     "name": "stdout",
     "output_type": "stream",
     "text": [
      "Enter a list of integers separated by spaces: 5 6 5 8 3 6 4 6 3 9 6 3 9\n",
      "List with duplicates removed: [5, 6, 8, 3, 4, 9]\n"
     ]
    }
   ],
   "source": [
    "input_list = list(map(int, input(\"Enter a list of integers separated by spaces: \").split()))\n",
    "unique_list = []\n",
    "for num in input_list:\n",
    "    if num not in unique_list:\n",
    "        unique_list.append(num)\n",
    "print(\"List with duplicates removed:\", unique_list)\n"
   ]
  },
  {
   "cell_type": "markdown",
   "id": "774668c2",
   "metadata": {},
   "source": [
    "<h3>Create a Python program that counts the number of words in a sentence using a for loop.\n"
   ]
  },
  {
   "cell_type": "code",
   "execution_count": 73,
   "id": "4ec68630",
   "metadata": {},
   "outputs": [
    {
     "name": "stdout",
     "output_type": "stream",
     "text": [
      "Enter the Sentence: I am Abishek Bhat\n",
      "17\n"
     ]
    }
   ],
   "source": [
    "sent=input(\"Enter the Sentence: \")\n",
    "count=0\n",
    "for i in sent:\n",
    "    count+=1\n",
    "print(count)"
   ]
  },
  {
   "cell_type": "markdown",
   "id": "7c839b13",
   "metadata": {},
   "source": [
    "<h3>Write a Python program to find the sum of all odd numbers from 1 to 50 using a for loop.\n"
   ]
  },
  {
   "cell_type": "code",
   "execution_count": 74,
   "id": "ff480405",
   "metadata": {},
   "outputs": [
    {
     "name": "stdout",
     "output_type": "stream",
     "text": [
      "625\n"
     ]
    }
   ],
   "source": [
    "sum_numbers=0\n",
    "for i in range (1,51):\n",
    "    if i%2!=0:\n",
    "        sum_numbers+=i\n",
    "print(sum_numbers)"
   ]
  },
  {
   "cell_type": "markdown",
   "id": "f5da8dee",
   "metadata": {},
   "source": [
    "<h3>Write a Python program that checks if a given year is a leap year using a for loop."
   ]
  },
  {
   "cell_type": "code",
   "execution_count": 83,
   "id": "e75e2191",
   "metadata": {},
   "outputs": [
    {
     "name": "stdout",
     "output_type": "stream",
     "text": [
      "Enter the Year: 2000\n",
      "It is a leap year\n"
     ]
    }
   ],
   "source": [
    "year=int(input(\"Enter the Year: \"))\n",
    "for i in range(year,0,-4):\n",
    "     if (i % 4 == 0 and i % 100 != 0) or (i % 400 == 0):\n",
    "        print(\"It is a leap year\")\n",
    "        break\n",
    "     else:\n",
    "        print(\"It is not a leap year\")\n",
    "        break"
   ]
  },
  {
   "cell_type": "markdown",
   "id": "3879142e",
   "metadata": {},
   "source": [
    "<h3>Create a Python program that calculates the square root of a number using a for loop."
   ]
  },
  {
   "cell_type": "code",
   "execution_count": 84,
   "id": "c636d2e2",
   "metadata": {},
   "outputs": [
    {
     "name": "stdout",
     "output_type": "stream",
     "text": [
      "Enter a number: 4\n",
      "Square root of 4.0 is approximately: 2.0\n"
     ]
    }
   ],
   "source": [
    "number = float(input(\"Enter a number: \"))\n",
    "guess = number / 2\n",
    "iterations = 1000\n",
    "for _ in range(iterations):\n",
    "    guess = (guess + number / guess) / 2\n",
    "print(\"Square root of\", number, \"is approximately:\", guess)"
   ]
  },
  {
   "cell_type": "markdown",
   "id": "608e2bfd",
   "metadata": {},
   "source": [
    "<h3>Write a Python program to find the LCM (Least Common Multiple) of two numbers using a for loop."
   ]
  },
  {
   "cell_type": "code",
   "execution_count": 85,
   "id": "f70302bf",
   "metadata": {},
   "outputs": [
    {
     "name": "stdout",
     "output_type": "stream",
     "text": [
      "Enter the first number: 60\n",
      "Enter the second number: 20\n",
      "The LCM of 60 and 20 is: 60\n"
     ]
    }
   ],
   "source": [
    "num1 = int(input(\"Enter the first number: \"))\n",
    "num2 = int(input(\"Enter the second number: \"))\n",
    "max_num = max(num1, num2)\n",
    "lcm = max_num\n",
    "while True:\n",
    "    if lcm % num1 == 0 and lcm % num2 == 0:\n",
    "        break\n",
    "    lcm += max_num\n",
    "print(\"The LCM of\", num1, \"and\", num2, \"is:\", lcm)"
   ]
  },
  {
   "cell_type": "markdown",
   "id": "3bd0b9c5",
   "metadata": {},
   "source": [
    "<h1> IF ELSE"
   ]
  },
  {
   "cell_type": "markdown",
   "id": "a515bc23",
   "metadata": {},
   "source": [
    "<h3>Write a Python program to check if a number is positive, negative, or zero using an if-else statement"
   ]
  },
  {
   "cell_type": "code",
   "execution_count": 88,
   "id": "11a60e18",
   "metadata": {},
   "outputs": [
    {
     "name": "stdout",
     "output_type": "stream",
     "text": [
      "Enter the number: 5\n",
      "It is positive\n"
     ]
    }
   ],
   "source": [
    "number=int(input(\"Enter the number: \"))\n",
    "if number>0:\n",
    "    print(\"It is positive\")\n",
    "elif number<0:\n",
    "    print(\"It is negative\")\n",
    "else:\n",
    "    print(\"It is zero\")"
   ]
  },
  {
   "cell_type": "markdown",
   "id": "62630e70",
   "metadata": {},
   "source": [
    "<h3>Create a Python program that checks if a given number is even or odd using an if-else statement."
   ]
  },
  {
   "cell_type": "code",
   "execution_count": 89,
   "id": "18dbe456",
   "metadata": {},
   "outputs": [
    {
     "name": "stdout",
     "output_type": "stream",
     "text": [
      "Enter the number: 6\n",
      "It is Even\n"
     ]
    }
   ],
   "source": [
    "number=int(input(\"Enter the number: \"))\n",
    "if number%2==0:\n",
    "    print(\"It is Even\")\n",
    "else:\n",
    "    print(\"It is Odd\")"
   ]
  },
  {
   "cell_type": "markdown",
   "id": "ccefb3c6",
   "metadata": {},
   "source": [
    "<h3>How can you use nested if-else statements in Python, and provide an example?"
   ]
  },
  {
   "cell_type": "code",
   "execution_count": 94,
   "id": "a52786cd",
   "metadata": {},
   "outputs": [
    {
     "name": "stdout",
     "output_type": "stream",
     "text": [
      "Enter your marks: 80\n",
      "Enter the age: 20\n",
      "Apply for PWSKILLS Data science course!\n"
     ]
    }
   ],
   "source": [
    "marks=int(input(\"Enter your marks: \"))\n",
    "age=int(input(\"Enter the age: \"))\n",
    "if age>18:\n",
    "    if marks>=90:\n",
    "        print(\"Apply for PWSKILLS Gate course!\")\n",
    "    elif marks>=80 and marks<90:\n",
    "        print(\"Apply for PWSKILLS Data science course!\")\n",
    "else:\n",
    "    print(\"You are below 18\")"
   ]
  },
  {
   "cell_type": "markdown",
   "id": "8e20e320",
   "metadata": {},
   "source": [
    "<h3>Write a Python program to determine the largest of three numbers using if-else."
   ]
  },
  {
   "cell_type": "code",
   "execution_count": 95,
   "id": "2f209515",
   "metadata": {},
   "outputs": [
    {
     "name": "stdout",
     "output_type": "stream",
     "text": [
      "Enter the Number: 2\n",
      "Enter the Number: 5\n",
      "Enter the Number: 6\n",
      "6 is greater than 5 and 2\n"
     ]
    }
   ],
   "source": [
    "number_1=input(\"Enter the Number: \")\n",
    "number_2=input(\"Enter the Number: \")\n",
    "number_3=input(\"Enter the Number: \")\n",
    "if number_1> number_2 and number_1>number_3:\n",
    "    print(f\"{number_1} is greater than {number_2} and {number_3}\")\n",
    "elif number_2> number_1 and number_2>number_3:\n",
    "    print(f\"{number_2} is greater than {number_1} and {number_3}\")\n",
    "else:\n",
    "    print(f\"{number_3} is greater than {number_2} and {number_1}\")"
   ]
  },
  {
   "cell_type": "markdown",
   "id": "d417ea01",
   "metadata": {},
   "source": [
    "<h3>Write a Python program that calculates the absolute value of a number using if-else."
   ]
  },
  {
   "cell_type": "code",
   "execution_count": 96,
   "id": "0f87503d",
   "metadata": {},
   "outputs": [
    {
     "name": "stdout",
     "output_type": "stream",
     "text": [
      "Enter a number: 25\n",
      "The absolute value of 25.0 is: 25.0\n"
     ]
    }
   ],
   "source": [
    "number = float(input(\"Enter a number: \"))\n",
    "if number < 0:\n",
    "    absolute_value = -number\n",
    "else:\n",
    "    absolute_value = number\n",
    "print(\"The absolute value of\", number, \"is:\", absolute_value)"
   ]
  },
  {
   "cell_type": "markdown",
   "id": "f7c61423",
   "metadata": {},
   "source": [
    "<h3>Create a Python program that checks if a given character is a vowel or consonant using if-else."
   ]
  },
  {
   "cell_type": "code",
   "execution_count": 99,
   "id": "5bff26bc",
   "metadata": {},
   "outputs": [
    {
     "name": "stdout",
     "output_type": "stream",
     "text": [
      "Enter the char:a\n",
      "It is a vowel!\n"
     ]
    }
   ],
   "source": [
    "name=input(\"Enter the char:\")\n",
    "vowels = 'aeiouAEIOU'\n",
    "count=0\n",
    "if name in vowels:\n",
    "    print(\"It is a vowel!\")\n",
    "else:\n",
    "    print(\"It is not a vowel!\")"
   ]
  },
  {
   "cell_type": "markdown",
   "id": "0fc224e2",
   "metadata": {},
   "source": [
    "<h3>Write a Python program to determine if a user is eligible to vote based on their age using if-else."
   ]
  },
  {
   "cell_type": "code",
   "execution_count": 100,
   "id": "6de687ed",
   "metadata": {},
   "outputs": [
    {
     "name": "stdout",
     "output_type": "stream",
     "text": [
      "Ënter the Age: 18\n",
      "Age is above 18 and is eligible to vote!\n"
     ]
    }
   ],
   "source": [
    "age=int(input(\"Ënter the Age: \"))\n",
    "if age>=18:\n",
    "    print(\"Age is above 18 and is eligible to vote!\")\n",
    "else:\n",
    "    print(\"Age is below 18 and is not eligible to vote!\")"
   ]
  },
  {
   "cell_type": "markdown",
   "id": "6027816e",
   "metadata": {},
   "source": [
    "<h3>Create a Python program that calculates the discount amount based on the purchase amount using if-else"
   ]
  },
  {
   "cell_type": "code",
   "execution_count": 101,
   "id": "b48f64c2",
   "metadata": {},
   "outputs": [
    {
     "name": "stdout",
     "output_type": "stream",
     "text": [
      "Enter the purchase amount in rupees: ₹100\n",
      "Discount amount: ₹ 10.0\n"
     ]
    }
   ],
   "source": [
    "purchase_amount = float(input(\"Enter the purchase amount in rupees: ₹\"))\n",
    "discount_rate = 0\n",
    "discount_amount = 0\n",
    "if purchase_amount >= 100:\n",
    "    discount_rate = 0.1\n",
    "elif purchase_amount >= 50:\n",
    "    discount_rate = 0.05 \n",
    "else:\n",
    "    discount_rate = 0\n",
    "discount_amount = purchase_amount * discount_rate\n",
    "print(\"Discount amount: ₹\", discount_amount)\n"
   ]
  },
  {
   "cell_type": "markdown",
   "id": "1c420734",
   "metadata": {},
   "source": [
    "<h3>Write a Python program to check if a number is within a specified range using if-else."
   ]
  },
  {
   "cell_type": "code",
   "execution_count": 104,
   "id": "a464a441",
   "metadata": {},
   "outputs": [
    {
     "name": "stdout",
     "output_type": "stream",
     "text": [
      "Enter the Number: 20\n",
      "The is below 50\n"
     ]
    }
   ],
   "source": [
    "number_1=int(input(\"Enter the Number: \"))\n",
    "if number_1==100:\n",
    "    print(\"The number is 100!\")\n",
    "elif number_1>50 and number_1<100:\n",
    "    print(\"The number is above 50 and below 100\")\n",
    "else: \n",
    "    print(\"The is below 50\")"
   ]
  },
  {
   "cell_type": "markdown",
   "id": "72ebbd64",
   "metadata": {},
   "source": [
    "<h3>Create a Python program that determines the grade of a student based on their score using if-else."
   ]
  },
  {
   "cell_type": "code",
   "execution_count": 105,
   "id": "6a1bbb07",
   "metadata": {},
   "outputs": [
    {
     "name": "stdout",
     "output_type": "stream",
     "text": [
      "Enter the score of the student: 60\n",
      "The grade of the student is: D\n"
     ]
    }
   ],
   "source": [
    "score = float(input(\"Enter the score of the student: \"))\n",
    "if score >= 90:\n",
    "    grade = 'A'\n",
    "elif score >= 80:\n",
    "    grade = 'B'\n",
    "elif score >= 70:\n",
    "    grade = 'C'\n",
    "elif score >= 60:\n",
    "    grade = 'D'\n",
    "else:\n",
    "    grade = 'F'\n",
    "print(\"The grade of the student is:\", grade)\n"
   ]
  },
  {
   "cell_type": "markdown",
   "id": "11c29698",
   "metadata": {},
   "source": [
    "<h3>Write a Python program to check if a string is empty or not using if-else."
   ]
  },
  {
   "cell_type": "code",
   "execution_count": 107,
   "id": "7bb6a1cd",
   "metadata": {},
   "outputs": [
    {
     "name": "stdout",
     "output_type": "stream",
     "text": [
      "Enter the word: abishek\n",
      "Not Empty\n"
     ]
    }
   ],
   "source": [
    "word=input(\"Enter the word: \")\n",
    "if len(word)==0:\n",
    "    print(\"Empty\")\n",
    "else:\n",
    "    print(\"Not Empty\")"
   ]
  },
  {
   "cell_type": "markdown",
   "id": "16362988",
   "metadata": {},
   "source": [
    "<h3>Create a Python program that identifies the type of a triangle (e.g., equilateral, isosceles, or scalene) based on input values using if-else.\n"
   ]
  },
  {
   "cell_type": "code",
   "execution_count": 109,
   "id": "3533508d",
   "metadata": {},
   "outputs": [
    {
     "name": "stdout",
     "output_type": "stream",
     "text": [
      "Enter length of first side: 20\n",
      "Enter length of second side: 20\n",
      "Enter length of third side: 20\n",
      "Equilateral\n"
     ]
    }
   ],
   "source": [
    "side1 = float(input(\"Enter length of first side: \"))\n",
    "side2 = float(input(\"Enter length of second side: \"))\n",
    "side3 = float(input(\"Enter length of third side: \"))\n",
    "\n",
    "if side1 == side2 == side3:\n",
    "    print(\"Equilateral\")\n",
    "elif side1 == side2 or side1 == side3 or side2 == side3:\n",
    "    print(\"Isosceles\")\n",
    "else:\n",
    "    print(\"Scalene\")\n"
   ]
  },
  {
   "cell_type": "markdown",
   "id": "c0265d21",
   "metadata": {},
   "source": [
    "<h3>Write a Python program to determine the day of the week based on a user-provided number using if-else.\n"
   ]
  },
  {
   "cell_type": "code",
   "execution_count": 110,
   "id": "40178fd2",
   "metadata": {},
   "outputs": [
    {
     "name": "stdout",
     "output_type": "stream",
     "text": [
      "Enter a number (1-7) for the day of the week: 5\n",
      "Thursday\n"
     ]
    }
   ],
   "source": [
    "day_number = int(input(\"Enter a number (1-7) for the day of the week: \"))\n",
    "\n",
    "if day_number == 1:\n",
    "    print(\"Sunday\")\n",
    "elif day_number == 2:\n",
    "    print(\"Monday\")\n",
    "elif day_number == 3:\n",
    "    print(\"Tuesday\")\n",
    "elif day_number == 4:\n",
    "    print(\"Wednesday\")\n",
    "elif day_number == 5:\n",
    "    print(\"Thursday\")\n",
    "elif day_number == 6:\n",
    "    print(\"Friday\")\n",
    "elif day_number == 7:\n",
    "    print(\"Saturday\")\n",
    "else:\n",
    "    print(\"Invalid input\")\n"
   ]
  },
  {
   "cell_type": "markdown",
   "id": "46d7c4c5",
   "metadata": {},
   "source": [
    "<h3>Create a Python program that checks if a given year is a leap year using both if-else and a function.\n"
   ]
  },
  {
   "cell_type": "code",
   "execution_count": 111,
   "id": "571cbe94",
   "metadata": {},
   "outputs": [
    {
     "name": "stdout",
     "output_type": "stream",
     "text": [
      "Enter the year: 2000\n",
      "2000 is a leap year.\n"
     ]
    }
   ],
   "source": [
    "year = int(input(\"Enter the year: \"))\n",
    "\n",
    "def is_leap_year(year):\n",
    "    if (year % 4 == 0 and year % 100 != 0) or (year % 400 == 0):\n",
    "        return True\n",
    "    else:\n",
    "        return False\n",
    "\n",
    "if is_leap_year(year):\n",
    "    print(year, \"is a leap year.\")\n",
    "else:\n",
    "    print(year, \"is not a leap year.\")\n"
   ]
  },
  {
   "cell_type": "markdown",
   "id": "20f7140f",
   "metadata": {},
   "source": [
    "<h3>How do you use the \"assert\" statement in Python to add debugging checks within if-else blocks?\n",
    "\n",
    "    "
   ]
  },
  {
   "cell_type": "markdown",
   "id": "1a61f0e7",
   "metadata": {},
   "source": [
    "<h5>assert statement:\n",
    "<h7>Checks if a condition is true and raises an AssertionError if false.\n",
    "<h5>Syntax:\n",
    "<h7>assert condition, message\n",
    "<h5>Purpose:\n",
    "<h7>Helps in debugging by verifying assumptions in code, ensuring it behaves as expected."
   ]
  },
  {
   "cell_type": "markdown",
   "id": "0bc68f7b",
   "metadata": {},
   "source": [
    "<h3>Create a Python program that determines the eligibility of a person for a senior citizen discount based on age using if-else.\n"
   ]
  },
  {
   "cell_type": "code",
   "execution_count": 113,
   "id": "8c1f7338",
   "metadata": {},
   "outputs": [
    {
     "name": "stdout",
     "output_type": "stream",
     "text": [
      "Enter your age: 60\n",
      "You are eligible for senior citizen discount.\n"
     ]
    }
   ],
   "source": [
    "age = int(input(\"Enter your age: \"))\n",
    "\n",
    "if age >= 60:\n",
    "    print(\"You are eligible for senior citizen discount.\")\n",
    "else:\n",
    "    print(\"You are not eligible for senior citizen discount.\")\n"
   ]
  },
  {
   "cell_type": "markdown",
   "id": "f05dbe5e",
   "metadata": {},
   "source": [
    "<h3>Write a Python program to categorize a given character as uppercase, lowercase, or neither using if-else.\n"
   ]
  },
  {
   "cell_type": "code",
   "execution_count": 114,
   "id": "44a04d0d",
   "metadata": {},
   "outputs": [
    {
     "name": "stdout",
     "output_type": "stream",
     "text": [
      "Enter a character: abishek\n",
      "Lowercase\n"
     ]
    }
   ],
   "source": [
    "char = input(\"Enter a character: \")\n",
    "\n",
    "if char.isupper():\n",
    "    print(\"Uppercase\")\n",
    "elif char.islower():\n",
    "    print(\"Lowercase\")\n",
    "else:\n",
    "    print(\"Neither\")\n"
   ]
  },
  {
   "cell_type": "markdown",
   "id": "a02f18c2",
   "metadata": {},
   "source": [
    "<h3>Write a Python program to determine the roots of a quadratic equation using if-else.\n"
   ]
  },
  {
   "cell_type": "code",
   "execution_count": 115,
   "id": "092a0341",
   "metadata": {},
   "outputs": [
    {
     "name": "stdout",
     "output_type": "stream",
     "text": [
      "Enter coefficient a: 2\n",
      "Enter coefficient b: 2\n",
      "Enter coefficient c: 7\n",
      "Roots are complex\n"
     ]
    }
   ],
   "source": [
    "import math\n",
    "\n",
    "a = float(input(\"Enter coefficient a: \"))\n",
    "b = float(input(\"Enter coefficient b: \"))\n",
    "c = float(input(\"Enter coefficient c: \"))\n",
    "\n",
    "discriminant = b**2 - 4*a*c\n",
    "\n",
    "if discriminant > 0:\n",
    "    print(\"Roots are real and different\")\n",
    "elif discriminant == 0:\n",
    "    print(\"Roots are real and same\")\n",
    "else:\n",
    "    print(\"Roots are complex\")\n",
    "\n"
   ]
  },
  {
   "cell_type": "markdown",
   "id": "81a915cd",
   "metadata": {},
   "source": [
    "<h3>Create a Python program that checks if a given year is a century year or not using if-else.\n"
   ]
  },
  {
   "cell_type": "code",
   "execution_count": 116,
   "id": "c2e5545c",
   "metadata": {},
   "outputs": [
    {
     "name": "stdout",
     "output_type": "stream",
     "text": [
      "Enter the year: 3000\n",
      "3000 is a century year.\n"
     ]
    }
   ],
   "source": [
    "year = int(input(\"Enter the year: \"))\n",
    "\n",
    "if year % 100 == 0:\n",
    "    print(year, \"is a century year.\")\n",
    "else:\n",
    "    print(year, \"is not a century year.\")\n"
   ]
  },
  {
   "cell_type": "markdown",
   "id": "504e38eb",
   "metadata": {},
   "source": [
    "<h3>Write a Python program to determine if a given number is a perfect square using if-else.\n"
   ]
  },
  {
   "cell_type": "code",
   "execution_count": 117,
   "id": "9a93a58a",
   "metadata": {},
   "outputs": [
    {
     "name": "stdout",
     "output_type": "stream",
     "text": [
      "Enter a number: 30\n",
      "30 is not a perfect square.\n"
     ]
    }
   ],
   "source": [
    "num = int(input(\"Enter a number: \"))\n",
    "\n",
    "if num >= 0 and math.isqrt(num)**2 == num:\n",
    "    print(num, \"is a perfect square.\")\n",
    "else:\n",
    "    print(num, \"is not a perfect square.\")\n"
   ]
  },
  {
   "cell_type": "markdown",
   "id": "6514d2ce",
   "metadata": {},
   "source": [
    "<h3>Explain the purpose of the \"continue\" and \"break\" statements within if-else loops.\n"
   ]
  },
  {
   "cell_type": "markdown",
   "id": "6beba585",
   "metadata": {},
   "source": [
    "<h7>continue: Skips the rest of the current iteration of a loop and proceeds with the next iteration.\n",
    "\n",
    "break: Terminates the loop prematurely, regardless of the loop's condition, and continues execution with the next statement after the loop.\n",
    "\n",
    "\n",
    "\n",
    "\n",
    "\n"
   ]
  },
  {
   "cell_type": "markdown",
   "id": "9a986139",
   "metadata": {},
   "source": [
    "<h3>Create a Python program that calculates the BMI (Body Mass Index) of a person based on their weight and height using if-else.\n"
   ]
  },
  {
   "cell_type": "code",
   "execution_count": 118,
   "id": "4403f352",
   "metadata": {},
   "outputs": [
    {
     "name": "stdout",
     "output_type": "stream",
     "text": [
      "Enter weight in kg: 99\n",
      "Enter height in meters: 173\n",
      "Underweight\n"
     ]
    }
   ],
   "source": [
    "weight = float(input(\"Enter weight in kg: \"))\n",
    "height = float(input(\"Enter height in meters: \"))\n",
    "\n",
    "bmi = weight / (height**2)\n",
    "\n",
    "if bmi < 18.5:\n",
    "    print(\"Underweight\")\n",
    "elif bmi < 25:\n",
    "    print(\"Normal weight\")\n",
    "elif bmi < 30:\n",
    "    print(\"Overweight\")\n",
    "else:\n",
    "    print(\"Obese\")\n"
   ]
  },
  {
   "cell_type": "markdown",
   "id": "a8f50fc7",
   "metadata": {},
   "source": [
    "<h3>How can you use the \"filter()\" function with if-else statements to filter elements from a list?\n"
   ]
  },
  {
   "cell_type": "code",
   "execution_count": 119,
   "id": "c3396e31",
   "metadata": {},
   "outputs": [
    {
     "name": "stdout",
     "output_type": "stream",
     "text": [
      "Even numbers: [2, 4, 6, 8, 10]\n",
      "Odd numbers: [1, 3, 5, 7, 9]\n"
     ]
    }
   ],
   "source": [
    "numbers = [1, 2, 3, 4, 5, 6, 7, 8, 9, 10]\n",
    "\n",
    "even_numbers = list(filter(lambda x: x % 2 == 0, numbers))\n",
    "print(\"Even numbers:\", even_numbers)\n",
    "\n",
    "odd_numbers = list(filter(lambda x: x % 2 != 0, numbers))\n",
    "print(\"Odd numbers:\", odd_numbers)\n"
   ]
  },
  {
   "cell_type": "markdown",
   "id": "a8a5b41c",
   "metadata": {},
   "source": [
    "<h3>Write a Python program to determine if a given number is prime or not using if-else\n"
   ]
  },
  {
   "cell_type": "code",
   "execution_count": 120,
   "id": "885a3914",
   "metadata": {},
   "outputs": [
    {
     "name": "stdout",
     "output_type": "stream",
     "text": [
      "Enter a number: 22\n",
      "22 is not a prime number.\n"
     ]
    }
   ],
   "source": [
    "num = int(input(\"Enter a number: \"))\n",
    "\n",
    "if num > 1:\n",
    "    for i in range(2, int(math.sqrt(num)) + 1):\n",
    "        if num % i == 0:\n",
    "            print(num, \"is not a prime number.\")\n",
    "            break\n",
    "    else:\n",
    "        print(num, \"is a prime number.\")\n",
    "else:\n",
    "    print(num, \"is not a prime number.\")\n"
   ]
  },
  {
   "cell_type": "markdown",
   "id": "59c32484",
   "metadata": {},
   "source": [
    "xplain the purpose of the map() function in Python and provide an example of how it can be used to apply a function to each element of an iterable."
   ]
  },
  {
   "cell_type": "markdown",
   "id": "1b275f73",
   "metadata": {},
   "source": [
    "<h1>MAPS"
   ]
  },
  {
   "cell_type": "markdown",
   "id": "6c3ec121",
   "metadata": {},
   "source": [
    "<h3>Explain the purpose of the map() function in Python and provide an example of how it can be used to apply a function to each element of an iterable."
   ]
  },
  {
   "cell_type": "code",
   "execution_count": 124,
   "id": "a939f715",
   "metadata": {},
   "outputs": [
    {
     "name": "stdout",
     "output_type": "stream",
     "text": [
      "[1, 4, 9, 16, 25]\n"
     ]
    }
   ],
   "source": [
    "numbers = [1, 2, 3, 4, 5]\n",
    "squared_numbers = map(lambda x: x**2, numbers)\n",
    "print(list(squared_numbers))\n"
   ]
  },
  {
   "cell_type": "markdown",
   "id": "ddb6452c",
   "metadata": {},
   "source": [
    "<h3>Write a Python program that uses the map() function to square each element of a list of numbers."
   ]
  },
  {
   "cell_type": "code",
   "execution_count": 125,
   "id": "ec952f08",
   "metadata": {},
   "outputs": [
    {
     "name": "stdout",
     "output_type": "stream",
     "text": [
      "[1, 4, 9, 16, 25]\n"
     ]
    }
   ],
   "source": [
    "numbers = [1, 2, 3, 4, 5]\n",
    "squared_numbers = map(lambda x: x**2, numbers)\n",
    "print(list(squared_numbers))\n"
   ]
  },
  {
   "cell_type": "markdown",
   "id": "3646338c",
   "metadata": {},
   "source": [
    "<h3>\n",
    "How does the map() function differ from a list comprehension in Python, and when would you choose one over the other?\n"
   ]
  },
  {
   "cell_type": "markdown",
   "id": "7541762f",
   "metadata": {},
   "source": [
    "<h7>map() applies a function to each element of an iterable, while list comprehension creates a new list by applying an expression to each item in a sequence.\n",
    "    \n",
    "    \n",
    "<h7>Use map() when you have a function to apply to each element and want to avoid writing a loop. Use list comprehension when the transformation logic is simple and readability is preferred.\n"
   ]
  },
  {
   "cell_type": "markdown",
   "id": "513f7c65",
   "metadata": {},
   "source": [
    "<h3>Create a Python program that uses the map() function to convert a list of names to uppercase.\n"
   ]
  },
  {
   "cell_type": "code",
   "execution_count": 126,
   "id": "df658143",
   "metadata": {},
   "outputs": [
    {
     "name": "stdout",
     "output_type": "stream",
     "text": [
      "['ALICE', 'BOB', 'CHARLIE']\n"
     ]
    }
   ],
   "source": [
    "names = [\"Alice\", \"Bob\", \"Charlie\"]\n",
    "uppercase_names = map(str.upper, names)\n",
    "print(list(uppercase_names))\n"
   ]
  },
  {
   "cell_type": "markdown",
   "id": "3db51eb8",
   "metadata": {},
   "source": [
    "<h3>Write a Python program that uses the map() function to calculate the length of each word in a list of strings."
   ]
  },
  {
   "cell_type": "code",
   "execution_count": 127,
   "id": "828330b8",
   "metadata": {},
   "outputs": [
    {
     "name": "stdout",
     "output_type": "stream",
     "text": [
      "[5, 6, 6]\n"
     ]
    }
   ],
   "source": [
    "words = [\"apple\", \"banana\", \"orange\"]\n",
    "word_lengths = map(len, words)\n",
    "print(list(word_lengths))\n"
   ]
  },
  {
   "cell_type": "markdown",
   "id": "ecd95cd6",
   "metadata": {},
   "source": [
    "<h3>How can you use the map() function to apply a custom function to elements of multiple lists simultaneously in Python?\n"
   ]
  },
  {
   "cell_type": "markdown",
   "id": "6c1cc900",
   "metadata": {},
   "source": [
    "<h7>You can use map() with zip() to iterate over multiple lists simultaneously and apply a custom function to their corresponding elements.\n"
   ]
  },
  {
   "cell_type": "markdown",
   "id": "dcfb1aa5",
   "metadata": {},
   "source": [
    "<h3>Create a Python program that uses map() to convert a list of temperatures from Celsius to Fahrenheit."
   ]
  },
  {
   "cell_type": "code",
   "execution_count": 129,
   "id": "5cbcbde0",
   "metadata": {},
   "outputs": [
    {
     "name": "stdout",
     "output_type": "stream",
     "text": [
      "[32.0, 50.0, 68.0, 86.0, 104.0]\n"
     ]
    }
   ],
   "source": [
    "celsius_temperatures = [0, 10, 20, 30, 40]\n",
    "fahrenheit_temperatures = map(lambda c: (c * 9/5) + 32, celsius_temperatures)\n",
    "print(list(fahrenheit_temperatures))\n"
   ]
  },
  {
   "cell_type": "markdown",
   "id": "46ef3696",
   "metadata": {},
   "source": [
    "<h3>Write a Python program that uses the map() function to round each element of a list of floating-point numbers to the nearest integer."
   ]
  },
  {
   "cell_type": "code",
   "execution_count": 130,
   "id": "04436b0c",
   "metadata": {},
   "outputs": [
    {
     "name": "stdout",
     "output_type": "stream",
     "text": [
      "[3, 3, 2]\n"
     ]
    }
   ],
   "source": [
    "float_numbers = [3.14, 2.718, 1.618]\n",
    "rounded_numbers = map(round, float_numbers)\n",
    "print(list(rounded_numbers))\n"
   ]
  },
  {
   "cell_type": "markdown",
   "id": "57def055",
   "metadata": {},
   "source": [
    "<h3>What is the reduce() function in Python, and what module should you import to use it? Provide an example of its basic usage"
   ]
  },
  {
   "cell_type": "code",
   "execution_count": 131,
   "id": "475c5bf6",
   "metadata": {},
   "outputs": [
    {
     "name": "stdout",
     "output_type": "stream",
     "text": [
      "120\n"
     ]
    }
   ],
   "source": [
    "from functools import reduce\n",
    "numbers = [1, 2, 3, 4, 5]\n",
    "product = reduce(lambda x, y: x * y, numbers)\n",
    "print(product)\n"
   ]
  },
  {
   "cell_type": "markdown",
   "id": "58aab026",
   "metadata": {},
   "source": [
    "<h3>Write a Python program that uses the reduce() function to find the product of all elements in a list."
   ]
  },
  {
   "cell_type": "code",
   "execution_count": 134,
   "id": "bb8e9512",
   "metadata": {},
   "outputs": [
    {
     "name": "stdout",
     "output_type": "stream",
     "text": [
      "25\n"
     ]
    }
   ],
   "source": [
    "from functools import reduce\n",
    "numbers = [10, 5, 20, 15, 25]\n",
    "max_number = reduce(lambda x, y: x if x > y else y, numbers)\n",
    "print(max_number)\n"
   ]
  },
  {
   "cell_type": "markdown",
   "id": "0376c447",
   "metadata": {},
   "source": [
    "<h3>Create a Python program that uses reduce() to find the maximum element in a list of numbers."
   ]
  },
  {
   "cell_type": "code",
   "execution_count": 135,
   "id": "a09917ce",
   "metadata": {},
   "outputs": [
    {
     "name": "stdout",
     "output_type": "stream",
     "text": [
      "25\n"
     ]
    }
   ],
   "source": [
    "from functools import reduce\n",
    "numbers = [10, 5, 20, 15, 25]\n",
    "max_number = reduce(lambda x, y: x if x > y else y, numbers)\n",
    "print(max_number)\n"
   ]
  },
  {
   "cell_type": "markdown",
   "id": "ba18bdac",
   "metadata": {},
   "source": [
    "<h3>How can you use the reduce() function to concatenate a list of strings into a single string?"
   ]
  },
  {
   "cell_type": "markdown",
   "id": "9689c9cc",
   "metadata": {},
   "source": [
    "<h7>You can use reduce() along with the + operator to concatenate the strings."
   ]
  },
  {
   "cell_type": "markdown",
   "id": "426622b7",
   "metadata": {},
   "source": [
    "<h3>Write a Python program that calculates the factorial of a number using the reduce() function."
   ]
  },
  {
   "cell_type": "code",
   "execution_count": 137,
   "id": "4bafafd6",
   "metadata": {},
   "outputs": [
    {
     "name": "stdout",
     "output_type": "stream",
     "text": [
      "120\n"
     ]
    }
   ],
   "source": [
    "from functools import reduce\n",
    "n = 5\n",
    "factorial = reduce(lambda x, y: x * y, range(1, n+1))\n",
    "print(factorial)\n"
   ]
  },
  {
   "cell_type": "markdown",
   "id": "32e549a1",
   "metadata": {},
   "source": [
    "<h3>Create a Python program that uses reduce() to find the GCD (Greatest Common Divisor) of a list of numbers."
   ]
  },
  {
   "cell_type": "code",
   "execution_count": 138,
   "id": "5ff73f64",
   "metadata": {},
   "outputs": [
    {
     "name": "stdout",
     "output_type": "stream",
     "text": [
      "12\n"
     ]
    }
   ],
   "source": [
    "from functools import reduce\n",
    "import math\n",
    "numbers = [48, 36, 24]\n",
    "gcd = reduce(math.gcd, numbers)\n",
    "print(gcd)\n"
   ]
  },
  {
   "cell_type": "markdown",
   "id": "686535be",
   "metadata": {},
   "source": [
    "<h3>Write a Python program that uses the reduce() function to find the sum of the digits of a given number."
   ]
  },
  {
   "cell_type": "code",
   "execution_count": 151,
   "id": "741b2437",
   "metadata": {},
   "outputs": [
    {
     "name": "stdout",
     "output_type": "stream",
     "text": [
      "15\n"
     ]
    }
   ],
   "source": [
    "from functools import reduce\n",
    "number = 12345\n",
    "digit_sum = reduce(lambda x, y: int(x) + int(y), str(number))\n",
    "print(digit_sum)\n"
   ]
  },
  {
   "cell_type": "markdown",
   "id": "43976b4e",
   "metadata": {},
   "source": [
    "<h3>Filter"
   ]
  },
  {
   "cell_type": "markdown",
   "id": "da2ffa0f",
   "metadata": {},
   "source": [
    "<h3>Explain the purpose of the filter() function in Python and provide an example of how it can be used to filter elements from an iterable."
   ]
  },
  {
   "cell_type": "code",
   "execution_count": 154,
   "id": "74abd9c3",
   "metadata": {},
   "outputs": [
    {
     "name": "stdout",
     "output_type": "stream",
     "text": [
      "[2, 4, 6, 8, 10]\n"
     ]
    }
   ],
   "source": [
    "numbers = [1, 2, 3, 4, 5, 6, 7, 8, 9, 10]\n",
    "even_numbers = filter(lambda x: x % 2 == 0, numbers)\n",
    "print(list(even_numbers))\n"
   ]
  },
  {
   "cell_type": "markdown",
   "id": "4630e68f",
   "metadata": {},
   "source": [
    "<h3>Write a Python program that uses the filter() function to select even numbers from a list of integers."
   ]
  },
  {
   "cell_type": "code",
   "execution_count": 156,
   "id": "ad9818a2",
   "metadata": {},
   "outputs": [
    {
     "name": "stdout",
     "output_type": "stream",
     "text": [
      "[2, 4, 6, 8, 10]\n"
     ]
    }
   ],
   "source": [
    "numbers = [1, 2, 3, 4, 5, 6, 7, 8, 9, 10]\n",
    "even_numbers = filter(lambda x: x % 2 == 0, numbers)\n",
    "print(list(even_numbers))\n"
   ]
  },
  {
   "cell_type": "markdown",
   "id": "a89ac770",
   "metadata": {},
   "source": [
    "<h3>Create a Python program that uses the filter() function to select names that start with a specific letter from a list of strings."
   ]
  },
  {
   "cell_type": "code",
   "execution_count": 157,
   "id": "09d69515",
   "metadata": {},
   "outputs": [
    {
     "name": "stdout",
     "output_type": "stream",
     "text": [
      "['Charlie']\n"
     ]
    }
   ],
   "source": [
    "names = [\"Alice\", \"Bob\", \"Charlie\", \"David\"]\n",
    "letter = \"C\"\n",
    "filtered_names = filter(lambda x: x.startswith(letter), names)\n",
    "print(list(filtered_names))\n"
   ]
  },
  {
   "cell_type": "markdown",
   "id": "87e0327b",
   "metadata": {},
   "source": [
    "<h3>Write a Python program that uses the filter() function to select prime numbers from a list of integers."
   ]
  },
  {
   "cell_type": "code",
   "execution_count": 158,
   "id": "964af25e",
   "metadata": {},
   "outputs": [
    {
     "name": "stdout",
     "output_type": "stream",
     "text": [
      "[2, 3, 5, 7, 11]\n"
     ]
    }
   ],
   "source": [
    "def is_prime(n):\n",
    "    if n <= 1:\n",
    "        return False\n",
    "    for i in range(2, int(n**0.5) + 1):\n",
    "        if n % i == 0:\n",
    "            return False\n",
    "    return True\n",
    "\n",
    "numbers = [2, 3, 4, 5, 6, 7, 8, 9, 10, 11]\n",
    "prime_numbers = filter(is_prime, numbers)\n",
    "print(list(prime_numbers))\n"
   ]
  },
  {
   "cell_type": "markdown",
   "id": "cd8d6ef6",
   "metadata": {},
   "source": [
    "<h3>How can you use the filter() function to remove None values from a list in Python?\n"
   ]
  },
  {
   "cell_type": "markdown",
   "id": "1e1e96e5",
   "metadata": {},
   "source": [
    "<h7>You can pass None as the function to filter, which will remove any elements that evaluate to False (including None)."
   ]
  },
  {
   "cell_type": "markdown",
   "id": "e6bd1d98",
   "metadata": {},
   "source": [
    "<h3>Create a Python program that uses filter() to select words longer than a certain length from a list of strings.\n"
   ]
  },
  {
   "cell_type": "code",
   "execution_count": 159,
   "id": "113d61ba",
   "metadata": {},
   "outputs": [
    {
     "name": "stdout",
     "output_type": "stream",
     "text": [
      "[]\n"
     ]
    }
   ],
   "source": [
    "words = [\"apple\", \"banana\", \"orange\", \"grape\", \"kiwi\"]\n",
    "min_length = 6\n",
    "long_words = filter(lambda x: len(x) > min_length, words)\n",
    "print(list(long_words))\n"
   ]
  },
  {
   "cell_type": "markdown",
   "id": "89e43683",
   "metadata": {},
   "source": [
    "<h3>Write a Python program that uses the filter() function to select elements greater than a specified threshold from a list of values"
   ]
  },
  {
   "cell_type": "code",
   "execution_count": 160,
   "id": "692a27d9",
   "metadata": {},
   "outputs": [
    {
     "name": "stdout",
     "output_type": "stream",
     "text": [
      "[30, 40, 50]\n"
     ]
    }
   ],
   "source": [
    "values = [10, 20, 30, 40, 50]\n",
    "threshold = 25\n",
    "filtered_values = filter(lambda x: x > threshold, values)\n",
    "print(list(filtered_values))\n"
   ]
  },
  {
   "cell_type": "markdown",
   "id": "70362cde",
   "metadata": {},
   "source": [
    "<h3>Recursion"
   ]
  },
  {
   "cell_type": "markdown",
   "id": "fdad61a4",
   "metadata": {},
   "source": [
    "<h3>Explain the concept of recursion in Python. How does it differ from iteration?"
   ]
  },
  {
   "cell_type": "markdown",
   "id": "e767d60f",
   "metadata": {},
   "source": [
    "<h7>Recursion is a programming technique where a function calls itself to solve a problem by breaking it down into smaller subproblems. Iteration, on the other hand, involves using loops to repeat a set of instructions."
   ]
  },
  {
   "cell_type": "markdown",
   "id": "ba3072d3",
   "metadata": {},
   "source": [
    "<h3>Write a Python program to calculate the factorial of a number using recursion."
   ]
  },
  {
   "cell_type": "code",
   "execution_count": 161,
   "id": "06e05251",
   "metadata": {},
   "outputs": [
    {
     "name": "stdout",
     "output_type": "stream",
     "text": [
      "120\n"
     ]
    }
   ],
   "source": [
    "def factorial(n):\n",
    "    if n == 0:\n",
    "        return 1\n",
    "    else:\n",
    "        return n * factorial(n-1)\n",
    "\n",
    "print(factorial(5))\n"
   ]
  },
  {
   "cell_type": "markdown",
   "id": "db534b50",
   "metadata": {},
   "source": [
    "<h3>Create a recursive Python function to find the nth Fibonacci number."
   ]
  },
  {
   "cell_type": "code",
   "execution_count": 163,
   "id": "a7973e70",
   "metadata": {},
   "outputs": [
    {
     "name": "stdout",
     "output_type": "stream",
     "text": [
      "8\n"
     ]
    }
   ],
   "source": [
    "def fibonacci(n):\n",
    "    if n <= 1:\n",
    "        return n\n",
    "    else:\n",
    "        return fibonacci(n-1) + fibonacci(n-2)\n",
    "\n",
    "print(fibonacci(6))\n"
   ]
  },
  {
   "cell_type": "markdown",
   "id": "687730b9",
   "metadata": {},
   "source": [
    "<h3>Write a recursive Python function to calculate the sum of all elements in a list."
   ]
  },
  {
   "cell_type": "code",
   "execution_count": 164,
   "id": "1fa746f9",
   "metadata": {},
   "outputs": [
    {
     "name": "stdout",
     "output_type": "stream",
     "text": [
      "15\n"
     ]
    }
   ],
   "source": [
    "def sum_list(lst):\n",
    "    if not lst:\n",
    "        return 0\n",
    "    else:\n",
    "        return lst[0] + sum_list(lst[1:])\n",
    "\n",
    "print(sum_list([1, 2, 3, 4, 5]))\n"
   ]
  },
  {
   "cell_type": "markdown",
   "id": "37a27871",
   "metadata": {},
   "source": [
    "<h3>How can you prevent a recursive function from running indefinitely, causing a stack overflow error?"
   ]
  },
  {
   "cell_type": "markdown",
   "id": "bcee3af6",
   "metadata": {},
   "source": [
    "<h7>You can prevent a recursive function from running indefinitely by ensuring that it has a base case that will eventually terminate the recursion, and by limiting the depth of recursion.\n"
   ]
  },
  {
   "cell_type": "markdown",
   "id": "df14b00b",
   "metadata": {},
   "source": [
    "<h3>Create a recursive Python function to find the greatest common divisor (GCD) of two numbers using the Euclidean algorithm."
   ]
  },
  {
   "cell_type": "code",
   "execution_count": 165,
   "id": "36623edb",
   "metadata": {},
   "outputs": [
    {
     "name": "stdout",
     "output_type": "stream",
     "text": [
      "6\n"
     ]
    }
   ],
   "source": [
    "def gcd(a, b):\n",
    "    if b == 0:\n",
    "        return a\n",
    "    else:\n",
    "        return gcd(b, a % b)\n",
    "\n",
    "print(gcd(48, 18))\n"
   ]
  },
  {
   "cell_type": "markdown",
   "id": "cff81ad8",
   "metadata": {},
   "source": [
    "<h3>Write a recursive Python function to reverse a string."
   ]
  },
  {
   "cell_type": "code",
   "execution_count": 167,
   "id": "1bee3f7d",
   "metadata": {},
   "outputs": [
    {
     "name": "stdout",
     "output_type": "stream",
     "text": [
      "olleh\n"
     ]
    }
   ],
   "source": [
    "def reverse_string(s):\n",
    "    if len(s) == 0:\n",
    "        return s\n",
    "    else:\n",
    "        return reverse_string(s[1:]) + s[0]\n",
    "\n",
    "print(reverse_string(\"hello\"))\n"
   ]
  },
  {
   "cell_type": "markdown",
   "id": "57485368",
   "metadata": {},
   "source": [
    "<h3>Create a recursive Python function to calculate the power of a number (x^n)."
   ]
  },
  {
   "cell_type": "code",
   "execution_count": 168,
   "id": "8df05e33",
   "metadata": {},
   "outputs": [
    {
     "name": "stdout",
     "output_type": "stream",
     "text": [
      "8\n"
     ]
    }
   ],
   "source": [
    "def power(x, n):\n",
    "    if n == 0:\n",
    "        return 1\n",
    "    else:\n",
    "        return x * power(x, n-1)\n",
    "\n",
    "print(power(2, 3))\n"
   ]
  },
  {
   "cell_type": "markdown",
   "id": "cd8304c9",
   "metadata": {},
   "source": [
    "<h3>Write a recursive Python function to find all permutations of a given string."
   ]
  },
  {
   "cell_type": "code",
   "execution_count": 169,
   "id": "093edc6d",
   "metadata": {},
   "outputs": [
    {
     "name": "stdout",
     "output_type": "stream",
     "text": [
      "['abc', 'acb', 'bac', 'bca', 'cab', 'cba']\n"
     ]
    }
   ],
   "source": [
    "def permutations(s):\n",
    "    if len(s) <= 1:\n",
    "        return [s]\n",
    "    else:\n",
    "        perms = []\n",
    "        for i in range(len(s)):\n",
    "            for perm in permutations(s[:i] + s[i+1:]):\n",
    "                perms.append(s[i] + perm)\n",
    "        return perms\n",
    "\n",
    "print(permutations(\"abc\"))\n"
   ]
  },
  {
   "cell_type": "markdown",
   "id": "6a8ee736",
   "metadata": {},
   "source": [
    "<h3>Write a recursive Python function to check if a string is a palindrome."
   ]
  },
  {
   "cell_type": "code",
   "execution_count": 170,
   "id": "eec54669",
   "metadata": {},
   "outputs": [
    {
     "name": "stdout",
     "output_type": "stream",
     "text": [
      "True\n"
     ]
    }
   ],
   "source": [
    "def is_palindrome(s):\n",
    "    if len(s) <= 1:\n",
    "        return True\n",
    "    else:\n",
    "        return s[0] == s[-1] and is_palindrome(s[1:-1])\n",
    "\n",
    "print(is_palindrome(\"racecar\"))\n"
   ]
  },
  {
   "cell_type": "markdown",
   "id": "ead938f2",
   "metadata": {},
   "source": [
    "<h3>Create a recursive Python function to generate all possible combinations of a list of elements."
   ]
  },
  {
   "cell_type": "code",
   "execution_count": 171,
   "id": "fc8ec1a5",
   "metadata": {},
   "outputs": [
    {
     "name": "stdout",
     "output_type": "stream",
     "text": [
      "[[], [3], [2], [2, 3], [1], [1, 3], [1, 2], [1, 2, 3]]\n"
     ]
    }
   ],
   "source": [
    "def combinations(lst):\n",
    "    if len(lst) == 0:\n",
    "        return [[]]\n",
    "    else:\n",
    "        head = lst[0]\n",
    "        tail_combinations = combinations(lst[1:])\n",
    "        return tail_combinations + [[head] + tail for tail in tail_combinations]\n",
    "\n",
    "print(combinations([1, 2, 3]))\n"
   ]
  },
  {
   "cell_type": "markdown",
   "id": "05164519",
   "metadata": {},
   "source": [
    "<h2>BASICS OF FUNCTION"
   ]
  },
  {
   "cell_type": "markdown",
   "id": "127989c0",
   "metadata": {},
   "source": [
    "<h3>What is a function in Python, and why is it used?"
   ]
  },
  {
   "cell_type": "markdown",
   "id": "70cebc43",
   "metadata": {},
   "source": [
    "<h7>A function in Python is a block of reusable code that performs a specific task. It is used to organize code into manageable pieces, promote code reusability, and enhance readability."
   ]
  },
  {
   "cell_type": "markdown",
   "id": "a6c44464",
   "metadata": {},
   "source": [
    "<h3>How do you define a function in Python? Provide an example."
   ]
  },
  {
   "cell_type": "code",
   "execution_count": 173,
   "id": "2ebf5ec9",
   "metadata": {},
   "outputs": [],
   "source": [
    "def add(a, b):\n",
    "    return a + b\n"
   ]
  },
  {
   "cell_type": "markdown",
   "id": "fb659043",
   "metadata": {},
   "source": [
    "<h3>Explain the difference between a function definition and a function call."
   ]
  },
  {
   "cell_type": "markdown",
   "id": "46785728",
   "metadata": {},
   "source": [
    "<h7>A function definition specifies the name of the function, its parameters, and the operations it performs, while a function call invokes the function by using its name followed by parentheses containing any required arguments.\n"
   ]
  },
  {
   "cell_type": "markdown",
   "id": "ec2101a9",
   "metadata": {},
   "source": [
    "<h3>Write a Python program that defines a function to calculate the sum of two numbers and then calls the function."
   ]
  },
  {
   "cell_type": "code",
   "execution_count": 174,
   "id": "9f98f297",
   "metadata": {},
   "outputs": [
    {
     "name": "stdout",
     "output_type": "stream",
     "text": [
      "8\n"
     ]
    }
   ],
   "source": [
    "def add(a, b):\n",
    "    return a + b\n",
    "\n",
    "result = add(3, 5)\n",
    "print(result)\n"
   ]
  },
  {
   "cell_type": "markdown",
   "id": "caf276f6",
   "metadata": {},
   "source": [
    "<h3>What is a function signature, and what information does it typically include?"
   ]
  },
  {
   "cell_type": "markdown",
   "id": "302121fa",
   "metadata": {},
   "source": [
    "<h7>A function signature typically includes the function name, parameter types, and return type.\n"
   ]
  },
  {
   "cell_type": "markdown",
   "id": "385dacf9",
   "metadata": {},
   "source": [
    "<h3>Create a Python function that takes two arguments and returns their product.\n"
   ]
  },
  {
   "cell_type": "code",
   "execution_count": 1,
   "id": "50fba1d9",
   "metadata": {},
   "outputs": [],
   "source": [
    "def multiply(a, b):\n",
    "    return a * b\n"
   ]
  },
  {
   "cell_type": "markdown",
   "id": "a5a7edc9",
   "metadata": {},
   "source": [
    "<h3>Function Parameters and Arguments:"
   ]
  },
  {
   "cell_type": "markdown",
   "id": "12758905",
   "metadata": {},
   "source": [
    "<h3>Explain the concepts of formal parameters and actual arguments in Python functions.\n",
    "Write a Python program that defines a function with default argument values.\n",
    "How do you use keyword arguments in Python function calls? Provide an example.\n",
    "Create a Python function that accepts a variable number of arguments and calculates their sum.\n",
    "What is the purpose of the `*args` and `**kwargs` syntax in function parameter lists?\n"
   ]
  }
 ],
 "metadata": {
  "kernelspec": {
   "display_name": "Python 3 (ipykernel)",
   "language": "python",
   "name": "python3"
  },
  "language_info": {
   "codemirror_mode": {
    "name": "ipython",
    "version": 3
   },
   "file_extension": ".py",
   "mimetype": "text/x-python",
   "name": "python",
   "nbconvert_exporter": "python",
   "pygments_lexer": "ipython3",
   "version": "3.11.5"
  }
 },
 "nbformat": 4,
 "nbformat_minor": 5
}
