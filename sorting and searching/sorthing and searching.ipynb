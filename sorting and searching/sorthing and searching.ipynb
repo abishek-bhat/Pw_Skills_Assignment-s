{
 "cells": [
  {
   "cell_type": "markdown",
   "id": "f891ba4e",
   "metadata": {},
   "source": [
    "<h3>Intersection of Two Sorted Arrays\n",
    "Write a Python program to find the intersection of two sorted arrays.\n",
    "Input:\n",
    "A = [1, 3, 5, 7, 9]\n",
    "B = [2, 4, 5, 8]\n",
    "Output:\n",
    "Intersection: [5]"
   ]
  },
  {
   "cell_type": "code",
   "execution_count": 9,
   "id": "da7e5084",
   "metadata": {},
   "outputs": [
    {
     "name": "stdout",
     "output_type": "stream",
     "text": [
      "Intersection:  [5]\n"
     ]
    }
   ],
   "source": [
    "A = [1, 3, 5, 7, 9]\n",
    "B = [2, 4, 5, 8]\n",
    "A_sort=sorted(A)\n",
    "B_sort=sorted(B)\n",
    "for i in A_sort:\n",
    "    for j in B_sort:\n",
    "        if i==j:\n",
    "            print(\"Intersection: \",[i])\n"
   ]
  },
  {
   "cell_type": "markdown",
   "id": "5add9318",
   "metadata": {},
   "source": [
    "<h3>Find the Kth Smallest Element\n",
    "Write a Python function to find the kth smallest element in an unsorted list.\n",
    "Input:\n",
    "[12, 3, 1, 7, 8, 20], k = 3\n",
    "Output:\n",
    "The 3rd smallest element is 7"
   ]
  },
  {
   "cell_type": "code",
   "execution_count": 18,
   "id": "dc53a868",
   "metadata": {},
   "outputs": [
    {
     "name": "stdout",
     "output_type": "stream",
     "text": [
      "The 3rd smallest element is 7\n"
     ]
    },
    {
     "data": {
      "text/plain": [
       "<function __main__.kth_smallest_element(arr, k)>"
      ]
     },
     "execution_count": 18,
     "metadata": {},
     "output_type": "execute_result"
    }
   ],
   "source": [
    "def kth_smallest_element(arr, k):\n",
    "    sorted_arr = sorted(arr)\n",
    "    kth_smallest = sorted_arr[k - 1]\n",
    "    return kth_smallest\n",
    "\n",
    "# Example usage:\n",
    "arr = [12, 3, 1, 7, 8, 20]\n",
    "k = 3\n",
    "result = kth_smallest_element(arr, k)\n",
    "print(f\"The {k}rd smallest element is {result}\")\n",
    "kth_smallest_element"
   ]
  },
  {
   "cell_type": "markdown",
   "id": "e7544122",
   "metadata": {},
   "source": [
    "<h3>Binary Search in a Rotated Sorted Array\n",
    "Implement a Python program to perform a binary search on a rotated sorted array."
   ]
  },
  {
   "cell_type": "code",
   "execution_count": 20,
   "id": "53a49464",
   "metadata": {},
   "outputs": [
    {
     "name": "stdout",
     "output_type": "stream",
     "text": [
      "Element 6 found at index 2\n"
     ]
    }
   ],
   "source": [
    "def search_rotated_array(arr, target):\n",
    "    left = 0\n",
    "    right = len(arr) - 1\n",
    "    \n",
    "    while left <= right:\n",
    "        mid = (left + right) // 2\n",
    "        \n",
    "        if arr[mid] == target:\n",
    "            return mid\n",
    "        \n",
    "        if arr[left] <= arr[mid]:\n",
    "            if arr[left] <= target < arr[mid]:\n",
    "                right = mid - 1\n",
    "            else:\n",
    "                left = mid + 1\n",
    "        else:\n",
    "            if arr[mid] < target <= arr[right]:\n",
    "                left = mid + 1\n",
    "            else:\n",
    "                right = mid - 1\n",
    "    \n",
    "    return -1\n",
    "\n",
    "arr = [4, 5, 6, 7, 8, 9, 1, 2, 3]\n",
    "target = 6\n",
    "result = search_rotated_array(arr, target)\n",
    "\n",
    "if result != -1:\n",
    "    print(f\"Element {target} found at index {result}\")\n",
    "else:\n",
    "    print(f\"Element {target} not found in the rotated sorted array\")\n"
   ]
  },
  {
   "cell_type": "markdown",
   "id": "6ffe6076",
   "metadata": {},
   "source": [
    "<h3>Searching in a Matrix\n",
    "Write a Python program that searches for a given element in a 2D matrix and returns its position.\n",
    "Input:\n",
    "Matrix = [\n",
    "[1, 3, 5],\n",
    "[7, 9, 11],\n",
    "[13, 15, 17]\n",
    "]"
   ]
  },
  {
   "cell_type": "code",
   "execution_count": 21,
   "id": "25cc9b35",
   "metadata": {},
   "outputs": [
    {
     "name": "stdout",
     "output_type": "stream",
     "text": [
      "Element 11 found at position (1, 2)\n"
     ]
    }
   ],
   "source": [
    "def search_matrix(matrix, target):\n",
    "    if not matrix:\n",
    "        return None\n",
    "\n",
    "    rows = len(matrix)\n",
    "    cols = len(matrix[0])\n",
    "\n",
    "    row = 0\n",
    "    col = cols - 1\n",
    "\n",
    "    while row < rows and col >= 0:\n",
    "        if matrix[row][col] == target:\n",
    "            return (row, col)\n",
    "        elif matrix[row][col] < target:\n",
    "            row += 1\n",
    "        else:\n",
    "            col -= 1\n",
    "\n",
    "    return None\n",
    "\n",
    "matrix = [\n",
    "    [1, 3, 5],\n",
    "    [7, 9, 11],\n",
    "    [13, 15, 17]\n",
    "]\n",
    "target = 11\n",
    "\n",
    "position = search_matrix(matrix, target)\n",
    "\n",
    "if position:\n",
    "    print(f\"Element {target} found at position {position}\")\n",
    "else:\n",
    "    print(f\"Element {target} not found in the matrix\")\n"
   ]
  },
  {
   "cell_type": "markdown",
   "id": "e75779fb",
   "metadata": {},
   "source": [
    "<h3>Sorting Strings by Length\n",
    "Write a Python program that takes a list of strings and sorts them based on their length.\n",
    "Input:\n",
    "['apple', 'banana', 'kiwi', 'orange', 'grape']"
   ]
  },
  {
   "cell_type": "code",
   "execution_count": 22,
   "id": "b170e825",
   "metadata": {},
   "outputs": [
    {
     "name": "stdout",
     "output_type": "stream",
     "text": [
      "Element 11 found at position (1, 2)\n"
     ]
    }
   ],
   "source": [
    "def search_matrix(matrix, target):\n",
    "    if not matrix:\n",
    "        return None\n",
    "\n",
    "    rows = len(matrix)\n",
    "    cols = len(matrix[0])\n",
    "\n",
    "    row = 0\n",
    "    col = cols - 1\n",
    "\n",
    "    while row < rows and col >= 0:\n",
    "        if matrix[row][col] == target:\n",
    "            return (row, col)\n",
    "        elif matrix[row][col] < target:\n",
    "            row += 1\n",
    "        else:\n",
    "            col -= 1\n",
    "\n",
    "    return None\n",
    "\n",
    "matrix = [\n",
    "    [1, 3, 5],\n",
    "    [7, 9, 11],\n",
    "    [13, 15, 17]\n",
    "]\n",
    "target = 11\n",
    "\n",
    "position = search_matrix(matrix, target)\n",
    "\n",
    "if position:\n",
    "    print(f\"Element {target} found at position {position}\")\n",
    "else:\n",
    "    print(f\"Element {target} not found in the matrix\")\n"
   ]
  },
  {
   "cell_type": "markdown",
   "id": "96cc6938",
   "metadata": {},
   "source": [
    "<h3>Implementing the merge sort"
   ]
  },
  {
   "cell_type": "code",
   "execution_count": 24,
   "id": "8b83be0d",
   "metadata": {},
   "outputs": [
    {
     "name": "stdout",
     "output_type": "stream",
     "text": [
      "[3, 9, 10, 27, 38, 43, 82]\n"
     ]
    }
   ],
   "source": [
    "def merge_sort(arr):\n",
    "    if len(arr) <= 1:\n",
    "        return arr\n",
    "\n",
    "    mid = len(arr) // 2\n",
    "    left_half = arr[:mid]\n",
    "    right_half = arr[mid:]\n",
    "\n",
    "    left_half = merge_sort(left_half)\n",
    "    right_half = merge_sort(right_half)\n",
    "\n",
    "    return merge(left_half, right_half)\n",
    "\n",
    "def merge(left, right):\n",
    "    merged = []\n",
    "    left_index, right_index = 0, 0\n",
    "\n",
    "    while left_index < len(left) and right_index < len(right):\n",
    "        if left[left_index] < right[right_index]:\n",
    "            merged.append(left[left_index])\n",
    "            left_index += 1\n",
    "        else:\n",
    "            merged.append(right[right_index])\n",
    "            right_index += 1\n",
    "\n",
    "    merged.extend(left[left_index:])\n",
    "    merged.extend(right[right_index:])\n",
    "    return merged\n",
    "arr = [38, 27, 43, 3, 9, 82, 10]\n",
    "sorted_arr = merge_sort(arr)\n",
    "print(sorted_arr)\n"
   ]
  },
  {
   "cell_type": "markdown",
   "id": "7ba14f5f",
   "metadata": {},
   "source": [
    "<h3>Implementing the quick sort"
   ]
  },
  {
   "cell_type": "code",
   "execution_count": 27,
   "id": "01c15ce8",
   "metadata": {},
   "outputs": [
    {
     "name": "stdout",
     "output_type": "stream",
     "text": [
      "[3, 9, 10, 27, 38, 43, 82]\n"
     ]
    }
   ],
   "source": [
    "def quick_sort(arr):\n",
    "    if len(arr) <= 1:\n",
    "        return arr\n",
    "    pivot = arr[len(arr) // 2]\n",
    "    left = [x for x in arr if x < pivot]\n",
    "    middle = [x for x in arr if x == pivot]\n",
    "    right = [x for x in arr if x > pivot]\n",
    "    return quick_sort(left) + middle + quick_sort(right)\n",
    "arr = [38, 27, 43, 3, 9, 82, 10]\n",
    "sorted_arr = quick_sort(arr)\n",
    "print(sorted_arr)\n"
   ]
  },
  {
   "cell_type": "markdown",
   "id": "5a855830",
   "metadata": {},
   "source": [
    "<h3>Implementing the count sort"
   ]
  },
  {
   "cell_type": "code",
   "execution_count": 29,
   "id": "54914ce2",
   "metadata": {},
   "outputs": [
    {
     "name": "stdout",
     "output_type": "stream",
     "text": [
      "[1, 2, 2, 3, 3, 4, 8]\n"
     ]
    }
   ],
   "source": [
    "def counting_sort(arr):\n",
    "    max_value = max(arr)\n",
    "    count = [0] * (max_value + 1)\n",
    "    for num in arr:\n",
    "        count[num] += 1\n",
    "    sorted_arr = []\n",
    "    for i in range(len(count)):\n",
    "        sorted_arr.extend([i] * count[i]) \n",
    "    return sorted_arr\n",
    "arr = [4, 2, 2, 8, 3, 3, 1]\n",
    "sorted_arr = counting_sort(arr)\n",
    "print(sorted_arr)\n"
   ]
  },
  {
   "cell_type": "markdown",
   "id": "01c656fd",
   "metadata": {},
   "source": [
    "<h3>Implement a Python function to find a peak element in an array. A peak element is an element that is greater\n",
    "than or equal to its neighbors.\n",
    "Input:\n",
    "[1, 3, 20, 4, 1, 0]\n",
    "Output:\n",
    "Peak element is 20"
   ]
  },
  {
   "cell_type": "code",
   "execution_count": 31,
   "id": "ab04a6e7",
   "metadata": {},
   "outputs": [
    {
     "name": "stdout",
     "output_type": "stream",
     "text": [
      "Peak element is 20\n"
     ]
    }
   ],
   "source": [
    "def find_peak_element(arr):\n",
    "    n = len(arr)\n",
    "    left = 0\n",
    "    right = n - 1\n",
    "    \n",
    "    while left <= right:\n",
    "        mid = left + (right - left) // 2\n",
    "        \n",
    "        if (mid == 0 or arr[mid] >= arr[mid - 1]) and (mid == n - 1 or arr[mid] >= arr[mid + 1]):\n",
    "            return arr[mid]\n",
    "        elif mid < n - 1 and arr[mid] < arr[mid + 1]:\n",
    "            left = mid + 1\n",
    "        else:\n",
    "            right = mid - 1\n",
    "    \n",
    "    return None\n",
    "arr = [1, 3, 20, 4, 1, 0]\n",
    "peak_element = find_peak_element(arr)\n",
    "if peak_element is not None:\n",
    "    print(f\"Peak element is {peak_element}\")\n",
    "else:\n",
    "    print(\"No peak element found in the array\")\n"
   ]
  },
  {
   "cell_type": "markdown",
   "id": "42ef67ba",
   "metadata": {},
   "source": [
    "<h3>Search in a Nearly Sorted Array\n",
    "Implement a Python program to perform a binary search in a nearly sorted array. In a nearly sorted array, each\n",
    "element is at most k positions away from its sorted position.\n",
    "Input:\n",
    "[2, 1, 3, 4, 6, 5, 7], k = 1\n",
    "Output:\n",
    "Element 5 found at index 4"
   ]
  },
  {
   "cell_type": "code",
   "execution_count": 32,
   "id": "7ed4417f",
   "metadata": {},
   "outputs": [
    {
     "name": "stdout",
     "output_type": "stream",
     "text": [
      "Element 5 found at index 5\n"
     ]
    }
   ],
   "source": [
    "def binary_search(arr, target):\n",
    "    left = 0\n",
    "    right = len(arr) - 1\n",
    "    \n",
    "    while left <= right:\n",
    "        mid = (left + right) // 2\n",
    "        \n",
    "        if arr[mid] == target:\n",
    "            return mid\n",
    "        \n",
    "        # Check the elements within the range of k positions\n",
    "        for i in range(max(0, mid - k), min(len(arr), mid + k + 1)):\n",
    "            if arr[i] == target:\n",
    "                return i\n",
    "        \n",
    "        if target < arr[mid]:\n",
    "            right = mid - 1\n",
    "        else:\n",
    "            left = mid + 1\n",
    "    \n",
    "    return -1\n",
    "arr = [2, 1, 3, 4, 6, 5, 7]\n",
    "k = 1\n",
    "target = 5\n",
    "\n",
    "index = binary_search(arr, target)\n",
    "if index != -1:\n",
    "    print(f\"Element {target} found at index {index}\")\n",
    "else:\n",
    "    print(\"Element not found in the nearly sorted array\")\n"
   ]
  },
  {
   "cell_type": "code",
   "execution_count": null,
   "id": "c5a08eb1",
   "metadata": {},
   "outputs": [],
   "source": []
  }
 ],
 "metadata": {
  "kernelspec": {
   "display_name": "Python 3 (ipykernel)",
   "language": "python",
   "name": "python3"
  },
  "language_info": {
   "codemirror_mode": {
    "name": "ipython",
    "version": 3
   },
   "file_extension": ".py",
   "mimetype": "text/x-python",
   "name": "python",
   "nbconvert_exporter": "python",
   "pygments_lexer": "ipython3",
   "version": "3.11.5"
  }
 },
 "nbformat": 4,
 "nbformat_minor": 5
}
