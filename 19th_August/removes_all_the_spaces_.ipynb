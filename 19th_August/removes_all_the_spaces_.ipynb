{
  "nbformat": 4,
  "nbformat_minor": 0,
  "metadata": {
    "colab": {
      "provenance": []
    },
    "kernelspec": {
      "name": "python3",
      "display_name": "Python 3"
    },
    "language_info": {
      "name": "python"
    }
  },
  "cells": [
    {
      "cell_type": "code",
      "execution_count": null,
      "metadata": {
        "colab": {
          "base_uri": "https://localhost:8080/"
        },
        "id": "rz6Pjd_YP9gS",
        "outputId": "b7d72fd9-9297-4663-8043-498191f63485"
      },
      "outputs": [
        {
          "output_type": "stream",
          "name": "stdout",
          "text": [
            "my name is abishek\n",
            "After Replacing the spaces mynameisabishek\n",
            "Before Replacing the spaces my name is abishek\n"
          ]
        }
      ],
      "source": [
        "user_input=str(input())\n",
        "after_space_replacement=user_input.replace(\" \",\"\")\n",
        "print(\"After Replacing the spaces\",after_space_replacement)\n",
        "print(\"Before Replacing the spaces\",user_input)"
      ]
    },
    {
      "cell_type": "code",
      "source": [],
      "metadata": {
        "id": "Iy4wUlSJQAvj"
      },
      "execution_count": null,
      "outputs": []
    }
  ]
}