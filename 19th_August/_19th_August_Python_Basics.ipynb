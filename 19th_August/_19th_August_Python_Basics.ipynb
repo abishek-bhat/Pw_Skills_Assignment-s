{
 "cells": [
  {
   "cell_type": "code",
   "execution_count": 2,
   "id": "390658bb-8275-404a-83bd-e72141279014",
   "metadata": {},
   "outputs": [],
   "source": [
    "x,y=10,12"
   ]
  },
  {
   "cell_type": "code",
   "execution_count": 7,
   "id": "18155c6a-ca45-4676-b53d-a3084582d034",
   "metadata": {},
   "outputs": [],
   "source": [
    "x = x + y\n",
    "y = x - y\n",
    "x = x - y"
   ]
  },
  {
   "cell_type": "code",
   "execution_count": 8,
   "id": "b81acad4-a4f2-4a47-8d72-8876163ea0ec",
   "metadata": {},
   "outputs": [
    {
     "data": {
      "text/plain": [
       "(12, 10)"
      ]
     },
     "execution_count": 8,
     "metadata": {},
     "output_type": "execute_result"
    }
   ],
   "source": [
    "x,y"
   ]
  },
  {
   "cell_type": "markdown",
   "id": "0922bb10-d377-4c2f-adaa-abfc8df506c1",
   "metadata": {},
   "source": [
    "<h1>Q2 Rectangle Area Calculation"
   ]
  },
  {
   "cell_type": "code",
   "execution_count": 13,
   "id": "8c20b406-5987-48fb-b874-5eb978809495",
   "metadata": {},
   "outputs": [
    {
     "name": "stdin",
     "output_type": "stream",
     "text": [
      " 100\n",
      " 200\n"
     ]
    }
   ],
   "source": [
    "length=float(input())\n",
    "breadth=float(input())\n",
    "Total_Area=float(length*breadth)"
   ]
  },
  {
   "cell_type": "code",
   "execution_count": 17,
   "id": "a0021b49-8c5b-4488-88f2-72fbeddf1115",
   "metadata": {},
   "outputs": [
    {
     "name": "stdout",
     "output_type": "stream",
     "text": [
      "Total Area for the given Length and Breadth:  20000.0\n"
     ]
    }
   ],
   "source": [
    "print(\"Total Area for the given Length and Breadth: \",Total_Area)"
   ]
  },
  {
   "cell_type": "markdown",
   "id": "3f35a018-c33f-48f1-b4d8-d10195576b2e",
   "metadata": {},
   "source": [
    "<h1> Q3 temperatures from Celsius to Fahrenheit."
   ]
  },
  {
   "cell_type": "code",
   "execution_count": 18,
   "id": "f0f0aa94-e012-45c2-9fc2-39e48241a90b",
   "metadata": {},
   "outputs": [
    {
     "name": "stdin",
     "output_type": "stream",
     "text": [
      " 100\n"
     ]
    },
    {
     "name": "stdout",
     "output_type": "stream",
     "text": [
      "The Fahrenheit for the given Celsius is  212.0\n"
     ]
    }
   ],
   "source": [
    "celsius=float(input())\n",
    "fahrenheit=celsius*(9/5)+32\n",
    "print(\"The Fahrenheit for the given Celsius is \",fahrenheit)"
   ]
  },
  {
   "cell_type": "markdown",
   "id": "3f7777b8-fc78-48ab-b2d6-3f2695f6cc00",
   "metadata": {},
   "source": [
    "<h1> String Based Questions"
   ]
  },
  {
   "cell_type": "markdown",
   "id": "2e883e60-79ef-429c-b6d4-e282591dee7f",
   "metadata": {},
   "source": [
    "<h2> Q1 string as input and prints the length of the string."
   ]
  },
  {
   "cell_type": "code",
   "execution_count": 20,
   "id": "16d8e499-d0fc-41b2-8e4a-c6903da9666c",
   "metadata": {},
   "outputs": [
    {
     "name": "stdin",
     "output_type": "stream",
     "text": [
      " my name is abishek\n"
     ]
    },
    {
     "name": "stdout",
     "output_type": "stream",
     "text": [
      "Lenght of the given input is  18\n"
     ]
    }
   ],
   "source": [
    "name=str(input())\n",
    "len_name=len(name)\n",
    "print(\"Lenght of the given input is \",len_name)"
   ]
  },
  {
   "cell_type": "markdown",
   "id": "2f927a68-7460-44de-8185-3ece80ec651c",
   "metadata": {},
   "source": [
    "<h2>Q2 Vowels"
   ]
  },
  {
   "cell_type": "code",
   "execution_count": 27,
   "id": "5f91b890-e994-49ab-b309-8b37b5db0609",
   "metadata": {},
   "outputs": [
    {
     "name": "stdin",
     "output_type": "stream",
     "text": [
      " my name is abishek\n"
     ]
    },
    {
     "name": "stdout",
     "output_type": "stream",
     "text": [
      "Total Number of vowels in the given sentences is  6\n"
     ]
    }
   ],
   "source": [
    "data=str(input())\n",
    "vowel_count = sum(data.count(vowel) for vowel in \"aeiouAEIOU\")\n",
    "print(\"Total Number of vowels in the given sentences is \",vowel_count)\n"
   ]
  },
  {
   "cell_type": "markdown",
   "id": "5362a074-baaf-42c2-9254-fe90c670c01c",
   "metadata": {},
   "source": [
    "<h2>Q3 reverse the order"
   ]
  },
  {
   "cell_type": "code",
   "execution_count": 29,
   "id": "34859ea4-5ea1-4696-b9bc-b476be77fba0",
   "metadata": {},
   "outputs": [
    {
     "name": "stdin",
     "output_type": "stream",
     "text": [
      " My name is Abishek\n"
     ]
    },
    {
     "data": {
      "text/plain": [
       "'kehsibA si eman yM'"
      ]
     },
     "execution_count": 29,
     "metadata": {},
     "output_type": "execute_result"
    }
   ],
   "source": [
    "input_str=str(input())\n",
    "input_str[::-1]"
   ]
  },
  {
   "cell_type": "markdown",
   "id": "9f7346ba-5adb-48f6-95ed-1cd0834395a4",
   "metadata": {},
   "source": [
    "<h2> Q4 palindrome"
   ]
  },
  {
   "cell_type": "code",
   "execution_count": 34,
   "id": "41244a5b-8298-4762-b30e-eb6902054c13",
   "metadata": {},
   "outputs": [
    {
     "name": "stdin",
     "output_type": "stream",
     "text": [
      " nitin\n"
     ]
    },
    {
     "name": "stdout",
     "output_type": "stream",
     "text": [
      "It is a Palindrom\n"
     ]
    }
   ],
   "source": [
    "input_str=str(input())\n",
    "if(input_str[::-1].lower()==input_str[0:].lower()):\n",
    "    print(\"It is a Palindrom\")\n",
    "else:\n",
    "    print(\"It is not a Palindrom\")"
   ]
  },
  {
   "cell_type": "markdown",
   "id": "1a6d164c-4207-4c5e-a263-39266dbe0bd3",
   "metadata": {},
   "source": [
    "<h2> Q5 removes all the spaces"
   ]
  },
  {
   "cell_type": "code",
   "execution_count": null,
   "id": "59aaf2ff-838a-4106-ba38-1b8d7622875d",
   "metadata": {},
   "outputs": [],
   "source": [
    "user_input=str(input())"
   ]
  },
  {
   "cell_type": "code",
   "execution_count": null,
   "id": "44a10e05-b19b-4194-a9a2-7c29db051a9a",
   "metadata": {},
   "outputs": [],
   "source": [
    "after_space_replacement=user_input.replace(\" \",\"\")\n",
    "print(\"After Replacing the spaces\",after_space_replacement)\n",
    "print(\"Before Replacing the spaces\",user_input)"
   ]
  },
  {
   "cell_type": "markdown",
   "id": "55c9c9af-60d4-466f-b019-361217be3ce8",
   "metadata": {},
   "source": [
    "<h1> Respected Tutor,\n",
    "    Since the kernel is not working properly, I am unable to excute the above code,\n",
    "    So i have Succesfully executed the above code in google colab and attached the ipynb file in the same repository(file name:\"Removes all the names\")"
   ]
  },
  {
   "cell_type": "code",
   "execution_count": null,
   "id": "b56ee748-1f9b-408c-8a33-a83c291bb0f6",
   "metadata": {},
   "outputs": [],
   "source": []
  },
  {
   "cell_type": "code",
   "execution_count": null,
   "id": "778f40a1-2604-484f-a1c6-418695a51155",
   "metadata": {},
   "outputs": [],
   "source": []
  }
 ],
 "metadata": {
  "kernelspec": {
   "display_name": "Python 3 (ipykernel)",
   "language": "python",
   "name": "python3"
  },
  "language_info": {
   "codemirror_mode": {
    "name": "ipython",
    "version": 3
   },
   "file_extension": ".py",
   "mimetype": "text/x-python",
   "name": "python",
   "nbconvert_exporter": "python",
   "pygments_lexer": "ipython3",
   "version": "3.10.8"
  }
 },
 "nbformat": 4,
 "nbformat_minor": 5
}
