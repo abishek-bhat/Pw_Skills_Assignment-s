{
 "cells": [
  {
   "cell_type": "markdown",
   "id": "7034e3d4",
   "metadata": {},
   "source": [
    "<h3>What is a Python library? Why do we use Python libraries?"
   ]
  },
  {
   "cell_type": "markdown",
   "id": "c7df2bc7",
   "metadata": {},
   "source": [
    "<h6>Efficiency: Libraries provide pre-written code for common tasks, saving developers time and effort.\n",
    "    \n",
    "    \n",
    "    \n",
    "    \n",
    "\n",
    "Functionality: They extend Python's capabilities by offering specialized tools and functions for various tasks such as numerical operations, data manipulation, web development, etc.\n",
    "\n",
    "    \n",
    "    \n",
    "    \n",
    "    \n",
    "    \n",
    "Standardization: Libraries establish standardized solutions for common problems, fostering collaboration and making it easier for developers to understand and contribute to projects.\n",
    "    \n",
    "    \n",
    "    \n",
    "    \n",
    "\n",
    "Community Support: Many libraries have active developer communities that provide assistance, contribute improvements, and offer documentation, making it easier to resolve issues and learn how to use the library effectively.\n",
    "\n",
    "    \n",
    "    \n",
    "Domain Specific: Certain libraries are tailored for specific domains like data science, web development, or scientific computing, allowing developers to leverage specialized tools and techniques optimized for their particular field of work."
   ]
  },
  {
   "cell_type": "markdown",
   "id": "8bfed75d",
   "metadata": {},
   "source": [
    "<h3>2. What is the ^ifference between Numpy array any List?"
   ]
  },
  {
   "cell_type": "markdown",
   "id": "37427433",
   "metadata": {},
   "source": [
    "<h6>Certainly, here's one key difference for each:\n",
    "\n",
    "1. **Homogeneity**:\n",
    "   - NumPy arrays are homogeneous, meaning all elements must be of the same data type, while lists can contain elements of different data types.\n",
    "\n",
    "2. **Performance**:\n",
    "   - NumPy arrays offer better performance for numerical operations compared to lists, especially for large datasets, due to optimized algorithms and memory efficiency.\n",
    "\n",
    "3. **Memory Efficiency**:\n",
    "   - NumPy arrays generally require less memory compared to lists, especially for large datasets, because they store data in a contiguous block of memory.\n",
    "\n",
    "4. **Indexing**:\n",
    "   - NumPy arrays support advanced indexing techniques such as boolean indexing, fancy indexing, and slicing with strides, providing more flexibility compared to lists.\n",
    "\n",
    "5. **Specialized Functions**:\n",
    "   - NumPy provides specialized functions for array manipulation, linear algebra, Fourier transforms, random number generation, etc., which are not available for lists."
   ]
  },
  {
   "cell_type": "markdown",
   "id": "e13c5d02",
   "metadata": {},
   "source": [
    "<h3>3. Find the shape, size and dimension of the following array?\n",
    "[[1, 2, 3, 4]\n",
    "[5, 6, 7, 8],\n",
    "[9, 10, 11, 12]]"
   ]
  },
  {
   "cell_type": "code",
   "execution_count": 21,
   "id": "937e5f5d",
   "metadata": {},
   "outputs": [
    {
     "name": "stdout",
     "output_type": "stream",
     "text": [
      "Shape: (3, 4)\n",
      "Size: 12\n",
      "Dimension: 2\n"
     ]
    }
   ],
   "source": [
    "import numpy as np\n",
    "my_list = [[1, 2, 3, 4], [5, 6, 7, 8], [9, 10, 11, 12]]\n",
    "my_array = np.array(my_list)\n",
    "shape = my_array.shape\n",
    "size = my_array.size\n",
    "dimension = my_array.ndim\n",
    "print(\"Shape:\", shape)\n",
    "print(\"Size:\", size)\n",
    "print(\"Dimension:\", dimension)\n"
   ]
  },
  {
   "cell_type": "markdown",
   "id": "2803e129",
   "metadata": {},
   "source": [
    "<h3>4. Write python code to access the first row of the following array?\n",
    "[[1, 2, 3, 4]\n",
    "[5, 6, 7, 8],\n",
    "[9, 10, 11, 12]]"
   ]
  },
  {
   "cell_type": "code",
   "execution_count": 23,
   "id": "d138919f",
   "metadata": {},
   "outputs": [
    {
     "data": {
      "text/plain": [
       "array([1, 2, 3, 4])"
      ]
     },
     "execution_count": 23,
     "metadata": {},
     "output_type": "execute_result"
    }
   ],
   "source": [
    "import numpy as np\n",
    "my_list = [[1, 2, 3, 4], [5, 6, 7, 8], [9, 10, 11, 12]]\n",
    "my_array = np.array(my_list)\n",
    "my_array[0]"
   ]
  },
  {
   "cell_type": "markdown",
   "id": "df071975",
   "metadata": {},
   "source": [
    "<h3>5. How do you access the element at the third row and fourth column from the given numpy array?\n",
    "[[1, 2, 3, 4]\n",
    "[5, 6, 7, 8],\n",
    "[9, 10, 11, 12]]"
   ]
  },
  {
   "cell_type": "code",
   "execution_count": 28,
   "id": "cb9a8d7b",
   "metadata": {},
   "outputs": [
    {
     "data": {
      "text/plain": [
       "12"
      ]
     },
     "execution_count": 28,
     "metadata": {},
     "output_type": "execute_result"
    }
   ],
   "source": [
    "import numpy as np\n",
    "my_list = [[1, 2, 3, 4], [5, 6, 7, 8], [9, 10, 11, 12]]\n",
    "my_array = np.array(my_list)\n",
    "my_array[2,3]"
   ]
  },
  {
   "cell_type": "markdown",
   "id": "f3d02726",
   "metadata": {},
   "source": [
    "<h3>6. Write code to extract all odd-indexed elements from the given numpy array?\n",
    "[[1, 2, 3, 4]\n",
    "[5, 6, 7, 8],\n",
    "[9, 10, 11, 12]]"
   ]
  },
  {
   "cell_type": "code",
   "execution_count": 31,
   "id": "08d418e9",
   "metadata": {},
   "outputs": [
    {
     "name": "stdout",
     "output_type": "stream",
     "text": [
      "[[6 8]]\n"
     ]
    }
   ],
   "source": [
    "import numpy as np\n",
    "my_list = [[1, 2, 3, 4], [5, 6, 7, 8], [9, 10, 11, 12]]\n",
    "my_array = np.array(my_list)\n",
    "odd_indexed_elements = my_array[1::2, 1::2]\n",
    "print(odd_indexed_elements)"
   ]
  },
  {
   "cell_type": "markdown",
   "id": "7ca337f0",
   "metadata": {},
   "source": [
    "<h3>7. How can you generate a random 3x3 matrix with values between 0 and 1?\n"
   ]
  },
  {
   "cell_type": "markdown",
   "id": "33c903bd",
   "metadata": {},
   "source": [
    "<h6>np.random.rand: Generates random values from a uniform distribution between 0 and 1, with specified array dimensions."
   ]
  },
  {
   "cell_type": "markdown",
   "id": "641aa694",
   "metadata": {},
   "source": [
    "<h3>8. Describe the difference between np.random.rand and np.random.randn?"
   ]
  },
  {
   "cell_type": "markdown",
   "id": "d6c08aa1",
   "metadata": {},
   "source": [
    "<h6>np.random.randn: Generates random values from a standard normal distribution (mean=0, standard deviation=1), with specified array dimensions."
   ]
  },
  {
   "cell_type": "markdown",
   "id": "39f470c0",
   "metadata": {},
   "source": [
    "<h3>9. Write code to increase the dimension of the following array?\n",
    "[[1, 2, 3, 4]\n",
    "[5, 6, 7, 8],\n",
    "[9, 10, 11, 12]]"
   ]
  },
  {
   "cell_type": "code",
   "execution_count": 33,
   "id": "7a288f3f",
   "metadata": {},
   "outputs": [
    {
     "name": "stdout",
     "output_type": "stream",
     "text": [
      "(1, 3, 4)\n",
      "[[[ 1  2  3  4]\n",
      "  [ 5  6  7  8]\n",
      "  [ 9 10 11 12]]]\n"
     ]
    }
   ],
   "source": [
    "import numpy as np\n",
    "arr = np.array([[1, 2, 3, 4],\n",
    "                [5, 6, 7, 8],\n",
    "                [9, 10, 11, 12]])\n",
    "new_arr = arr[np.newaxis, :]\n",
    "print(new_arr.shape)\n",
    "print(new_arr)\n"
   ]
  },
  {
   "cell_type": "markdown",
   "id": "0ddcfad1",
   "metadata": {},
   "source": [
    "<h3>10. How to transpose the following array in NumPy?\n",
    "[[1, 2, 3, 4]\n",
    "[5, 6, 7, 8],\n",
    "[9, 10, 11, 12]]"
   ]
  },
  {
   "cell_type": "code",
   "execution_count": 34,
   "id": "058e3769",
   "metadata": {},
   "outputs": [],
   "source": [
    "import numpy as np\n",
    "arr = np.array([[1, 2, 3, 4],\n",
    "                [5, 6, 7, 8],\n",
    "                [9, 10, 11, 12]])"
   ]
  },
  {
   "cell_type": "markdown",
   "id": "bb0487bd",
   "metadata": {},
   "source": [
    "<h3>11. Consider the following matrix:\n",
    "Matrix A2 [[1, 2, 3, 4] [5, 6, 7, 8],[9, 10, 11, 12]]\n",
    "Matrix B2 [[1, 2, 3, 4] [5, 6, 7, 8],[9, 10, 11, 12]]"
   ]
  },
  {
   "cell_type": "markdown",
   "id": "c593ab83",
   "metadata": {},
   "source": [
    "<h3>Index wise multiplication"
   ]
  },
  {
   "cell_type": "code",
   "execution_count": 42,
   "id": "840145f6",
   "metadata": {},
   "outputs": [
    {
     "name": "stdout",
     "output_type": "stream",
     "text": [
      "(3, 4) (3, 4)\n"
     ]
    },
    {
     "data": {
      "text/plain": [
       "array([[  1,   4,   9,  16],\n",
       "       [ 25,  36,  49,  64],\n",
       "       [ 81, 100, 121, 144]])"
      ]
     },
     "execution_count": 42,
     "metadata": {},
     "output_type": "execute_result"
    }
   ],
   "source": [
    "A2 =[[1, 2, 3, 4], [5, 6, 7, 8],[9, 10, 11, 12]]\n",
    "B2= [[1, 2, 3, 4], [5, 6, 7, 8],[9, 10, 11, 12]]\n",
    "arr_2=np.array(A2)\n",
    "arr_3=np.array(B2)\n",
    "print(arr_2.shape,arr_3.shape)\n",
    "arr_2*arr_3"
   ]
  },
  {
   "cell_type": "markdown",
   "id": "229c6f12",
   "metadata": {},
   "source": [
    "<h3>Matix multiplication"
   ]
  },
  {
   "cell_type": "code",
   "execution_count": 51,
   "id": "b37e79f8",
   "metadata": {},
   "outputs": [
    {
     "data": {
      "text/plain": [
       "121"
      ]
     },
     "execution_count": 51,
     "metadata": {},
     "output_type": "execute_result"
    }
   ],
   "source": [
    "A2 =[[1, 2, 3, 4], [5, 6, 7, 8],[9, 10, 11, 12]]\n",
    "B2= [[1, 2, 3, 4], [5, 6, 7, 8],[9, 10, 11, 12]]\n",
    "result_list= [[0, 0, 0, 0], [0, 0, 0, 0],[0, 0, 0, 0]]\n",
    "arr_2=np.array(A2)\n",
    "arr_3=np.array(B2)\n",
    "result=np.array(result_list)\n",
    "for i in range(0,len(arr_2)):\n",
    "    for j in range(0,len(arr_3)):\n",
    "        result=arr_2[i,j]*arr_3[i,j]\n",
    "result"
   ]
  },
  {
   "cell_type": "code",
   "execution_count": 53,
   "id": "20166311",
   "metadata": {},
   "outputs": [
    {
     "name": "stdout",
     "output_type": "stream",
     "text": [
      "[30, 24, 18]\n",
      "[84, 69, 54]\n",
      "[138, 114, 90]\n"
     ]
    }
   ],
   "source": [
    "A = [[1, 2, 3],\n",
    "     [4, 5, 6],\n",
    "     [7, 8, 9]]\n",
    "B = [[9, 8, 7],\n",
    "     [6, 5, 4],\n",
    "     [3, 2, 1]]\n",
    "result = [[0, 0, 0],\n",
    "          [0, 0, 0],\n",
    "          [0, 0, 0]]\n",
    "for i in range(len(A)):\n",
    "    for j in range(len(B[0])):\n",
    "        for k in range(len(B)):\n",
    "            result[i][j] += A[i][k] * B[k][j]\n",
    "for row in result:\n",
    "    print(row)\n"
   ]
  },
  {
   "cell_type": "markdown",
   "id": "d115a829",
   "metadata": {},
   "source": [
    "<h3>Add both the matics"
   ]
  },
  {
   "cell_type": "code",
   "execution_count": 54,
   "id": "c1cdd40c",
   "metadata": {},
   "outputs": [
    {
     "name": "stdout",
     "output_type": "stream",
     "text": [
      "[24, 21, 18]\n",
      "[33, 30, 27]\n",
      "[42, 39, 36]\n"
     ]
    }
   ],
   "source": [
    "A = [[1, 2, 3],\n",
    "     [4, 5, 6],\n",
    "     [7, 8, 9]]\n",
    "B = [[9, 8, 7],\n",
    "     [6, 5, 4],\n",
    "     [3, 2, 1]]\n",
    "result = [[0, 0, 0],\n",
    "          [0, 0, 0],\n",
    "          [0, 0, 0]]\n",
    "for i in range(len(A)):\n",
    "    for j in range(len(B[0])):\n",
    "        for k in range(len(B)):\n",
    "            result[i][j] += A[i][k] + B[k][j]\n",
    "for row in result:\n",
    "    print(row)\n"
   ]
  },
  {
   "cell_type": "markdown",
   "id": "908e5a05",
   "metadata": {},
   "source": [
    "<h3>- Subtact matix B from A"
   ]
  },
  {
   "cell_type": "code",
   "execution_count": 55,
   "id": "138f378f",
   "metadata": {},
   "outputs": [
    {
     "name": "stdout",
     "output_type": "stream",
     "text": [
      "[12, 9, 6]\n",
      "[3, 0, -3]\n",
      "[-6, -9, -12]\n"
     ]
    }
   ],
   "source": [
    "A = [[1, 2, 3],\n",
    "     [4, 5, 6],\n",
    "     [7, 8, 9]]\n",
    "B = [[9, 8, 7],\n",
    "     [6, 5, 4],\n",
    "     [3, 2, 1]]\n",
    "result = [[0, 0, 0],\n",
    "          [0, 0, 0],\n",
    "          [0, 0, 0]]\n",
    "for i in range(len(A)):\n",
    "    for j in range(len(B[0])):\n",
    "        for k in range(len(B)):\n",
    "            result[i][j] +=  B[k][j]-A[i][k] \n",
    "for row in result:\n",
    "    print(row)\n"
   ]
  },
  {
   "cell_type": "markdown",
   "id": "d7c324a8",
   "metadata": {},
   "source": [
    "<h3>+ Divide Matix B by A"
   ]
  },
  {
   "cell_type": "code",
   "execution_count": 56,
   "id": "f6cc0b2f",
   "metadata": {},
   "outputs": [
    {
     "name": "stdout",
     "output_type": "stream",
     "text": [
      "[13.0, 11.166666666666666, 9.333333333333334]\n",
      "[3.95, 3.3333333333333335, 2.7166666666666663]\n",
      "[2.369047619047619, 1.9900793650793651, 1.6111111111111112]\n"
     ]
    }
   ],
   "source": [
    "A = [[1, 2, 3],\n",
    "     [4, 5, 6],\n",
    "     [7, 8, 9]]\n",
    "B = [[9, 8, 7],\n",
    "     [6, 5, 4],\n",
    "     [3, 2, 1]]\n",
    "result = [[0, 0, 0],\n",
    "          [0, 0, 0],\n",
    "          [0, 0, 0]]\n",
    "for i in range(len(A)):\n",
    "    for j in range(len(B[0])):\n",
    "        for k in range(len(B)):\n",
    "            result[i][j] +=  B[k][j]/A[i][k] \n",
    "for row in result:\n",
    "    print(row)"
   ]
  },
  {
   "cell_type": "markdown",
   "id": "f13e0ffe",
   "metadata": {},
   "source": [
    "### 12. Which function in Numpy can be used to swap the byte order of an array?\n",
    "- The function `np.ndarray.byteswap()` can be used to swap the byte order of an array.\n",
    "\n",
    "### 13. What is the significance of the np.linalg.inv function?\n",
    "- `np.linalg.inv` computes the inverse of a square matrix, which is significant in solving systems of linear equations and various mathematical computations.\n",
    "\n",
    "### 14. What does the np.reshape function do, and how is it used?\n",
    "- `np.reshape` changes the shape of an array without changing its data. It rearranges the elements to fit the new shape.\n",
    "- Syntax: `np.reshape(array, new_shape)` is used to reshape an array to the specified `new_shape`.\n",
    "\n",
    "### 15. What is broadcasting in Numpy?\n",
    "- Broadcasting is a feature in NumPy that allows arrays with different shapes to be combined together for arithmetic operations.\n",
    "- It enables operations between arrays of different shapes and sizes by automatically aligning dimensions.\n"
   ]
  },
  {
   "cell_type": "code",
   "execution_count": null,
   "id": "b9af77e4",
   "metadata": {},
   "outputs": [],
   "source": []
  }
 ],
 "metadata": {
  "kernelspec": {
   "display_name": "Python 3 (ipykernel)",
   "language": "python",
   "name": "python3"
  },
  "language_info": {
   "codemirror_mode": {
    "name": "ipython",
    "version": 3
   },
   "file_extension": ".py",
   "mimetype": "text/x-python",
   "name": "python",
   "nbconvert_exporter": "python",
   "pygments_lexer": "ipython3",
   "version": "3.11.5"
  }
 },
 "nbformat": 4,
 "nbformat_minor": 5
}
