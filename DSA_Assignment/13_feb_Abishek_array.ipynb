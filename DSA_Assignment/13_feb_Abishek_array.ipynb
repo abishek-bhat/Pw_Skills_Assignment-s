{
 "cells": [
  {
   "cell_type": "markdown",
   "id": "89fa120f",
   "metadata": {},
   "source": [
    "<h1>1. Given an array, check if it contains any duplicates or not.\n",
    "arr = [1, 2, 4, 2, 5, 9]\n",
    "Output = True"
   ]
  },
  {
   "cell_type": "code",
   "execution_count": 26,
   "id": "a10ca55a",
   "metadata": {},
   "outputs": [
    {
     "name": "stdout",
     "output_type": "stream",
     "text": [
      "Output: True\n"
     ]
    }
   ],
   "source": [
    "arr = [1, 2, 4, 2,5, 9]\n",
    "\n",
    "def contains_duplicates(arr):\n",
    "    seen = set()\n",
    "    for num in arr:\n",
    "        if num in seen:\n",
    "            return True\n",
    "        seen.add(num)\n",
    "    return False\n",
    "\n",
    "output = contains_duplicates(arr)\n",
    "print(\"Output:\", output)"
   ]
  },
  {
   "cell_type": "markdown",
   "id": "1adc165e",
   "metadata": {},
   "source": [
    "<h3>2. Given an array and an integer k, rotate the array to the right by k steps.\n",
    "arr = [1, 2, 3, 4, 5, 6, 7] k = 3\n",
    "Output = [5, 6, 7, 1, 2, 3, 4]"
   ]
  },
  {
   "cell_type": "code",
   "execution_count": 36,
   "id": "59067afe",
   "metadata": {},
   "outputs": [
    {
     "name": "stdout",
     "output_type": "stream",
     "text": [
      "Enter the index:3\n",
      "[5, 6, 7, 1, 2, 3]\n"
     ]
    }
   ],
   "source": [
    "arr = [1, 2, 3, 4, 5, 6, 7]\n",
    "index=int(input(\"Enter the index:\"))\n",
    "def rotational(arr,index):\n",
    "    greater_new_array = []\n",
    "    smaller_new_array = []\n",
    "    total_array = []\n",
    "    for i in range(len(arr)):\n",
    "        if i>index:\n",
    "            greater_new_array.append(arr[i])\n",
    "        if i<index:\n",
    "            smaller_new_array.append(arr[i])\n",
    "    total_array=greater_new_array+smaller_new_array\n",
    "    return total_array\n",
    "print(rotational(arr,index))"
   ]
  },
  {
   "cell_type": "markdown",
   "id": "05446d87",
   "metadata": {},
   "source": [
    "<h3>3. Reverse the given array in-place, means without using any extra data structure.\n",
    "arr = [2, 4, 5, 7, 9, 12]\n",
    "Output = [12, 9, 7, 5, 4, 2]"
   ]
  },
  {
   "cell_type": "code",
   "execution_count": 38,
   "id": "81622297",
   "metadata": {},
   "outputs": [
    {
     "name": "stdout",
     "output_type": "stream",
     "text": [
      "[12, 9, 7, 5, 4, 2]\n"
     ]
    }
   ],
   "source": [
    "arr = [2, 4, 5, 7, 9, 12]\n",
    "def reverse_array(arr):\n",
    "    print(arr[::-1])\n",
    "reverse_array(arr)"
   ]
  },
  {
   "cell_type": "markdown",
   "id": "ac33b6a6",
   "metadata": {},
   "source": [
    "<h3>4. Given an array of integers, find the maximum element in an array\n",
    "arr = [10, 5, 20, 8, 15]\n",
    "Output = 20"
   ]
  },
  {
   "cell_type": "code",
   "execution_count": 47,
   "id": "f29b4e2e",
   "metadata": {},
   "outputs": [
    {
     "name": "stdout",
     "output_type": "stream",
     "text": [
      "Output: 20\n"
     ]
    }
   ],
   "source": [
    "arr = [10, 5, 20, 8, 15]\n",
    "max_element = arr[0]\n",
    "for num in arr[1:]:\n",
    "    if num > max_element:\n",
    "        max_element = num\n",
    "print(\"Output:\", max_element)"
   ]
  },
  {
   "cell_type": "markdown",
   "id": "1a8f5a2d",
   "metadata": {},
   "source": [
    "<h3>5. Given a sorted array, remove the duplicate element without using any extra data structure.\n",
    "arr = [1, 1, 2, 2, 2, 3, 3, 4, 4, 4, 5, 5]\n",
    "Output = [1, 2, 3, 4, 5]"
   ]
  },
  {
   "cell_type": "code",
   "execution_count": 46,
   "id": "2ab9bb86",
   "metadata": {},
   "outputs": [
    {
     "name": "stdout",
     "output_type": "stream",
     "text": [
      "[1, 2, 3, 4, 5]\n"
     ]
    }
   ],
   "source": [
    "arr = [1, 1, 2, 2, 2, 3, 3, 4, 4, 4, 5, 5]\n",
    "for i in range(len(arr) - 1, 0, -1):\n",
    "    if arr[i] == arr[i - 1]:\n",
    "        del arr[i]\n",
    "print(arr)"
   ]
  },
  {
   "cell_type": "code",
   "execution_count": null,
   "id": "f68f1de8",
   "metadata": {},
   "outputs": [],
   "source": []
  }
 ],
 "metadata": {
  "kernelspec": {
   "display_name": "Python 3 (ipykernel)",
   "language": "python",
   "name": "python3"
  },
  "language_info": {
   "codemirror_mode": {
    "name": "ipython",
    "version": 3
   },
   "file_extension": ".py",
   "mimetype": "text/x-python",
   "name": "python",
   "nbconvert_exporter": "python",
   "pygments_lexer": "ipython3",
   "version": "3.11.5"
  }
 },
 "nbformat": 4,
 "nbformat_minor": 5
}
